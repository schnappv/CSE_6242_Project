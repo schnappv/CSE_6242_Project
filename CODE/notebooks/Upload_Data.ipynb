{
 "cells": [
  {
   "cell_type": "code",
   "execution_count": 1,
   "id": "989f3168",
   "metadata": {},
   "outputs": [],
   "source": [
    "import os\n",
    "from pathlib import Path\n",
    "import sys\n",
    "\n",
    "# set working directory to the module's home\n",
    "cwd = os.getcwd()\n",
    "os.chdir(Path(cwd).parents[1])"
   ]
  },
  {
   "cell_type": "code",
   "execution_count": 2,
   "id": "effe7386",
   "metadata": {},
   "outputs": [],
   "source": [
    "from config import connect\n",
    "import pandas as pd"
   ]
  },
  {
   "cell_type": "code",
   "execution_count": 3,
   "id": "24f81bdb",
   "metadata": {},
   "outputs": [],
   "source": [
    "conn = connect()"
   ]
  },
  {
   "cell_type": "code",
   "execution_count": 4,
   "id": "8c435a26",
   "metadata": {},
   "outputs": [],
   "source": [
    "cursor = conn.cursor()"
   ]
  },
  {
   "cell_type": "code",
   "execution_count": 6,
   "id": "0f28e42a",
   "metadata": {},
   "outputs": [],
   "source": [
    "# q = \"DROP TABLE AQI.month_mort\"\n",
    "# q = \"DROP TABLE AQI.combined\"\n",
    "# q = \"DROP TABLE AQI.index\"\n",
    "cursor.execute(q)"
   ]
  },
  {
   "cell_type": "code",
   "execution_count": 11,
   "id": "3cb369f9",
   "metadata": {},
   "outputs": [],
   "source": [
    "cursor.execute(\"CREATE TABLE AQI.month_mort (mm_Year INTEGER(255), mm_Month INTEGER(255), mm_State VARCHAR(255), mm_Parameter VARCHAR(255), mm_AQI FLOAT(8, 2), mm_Age_Group VARCHAR(255), mm_Deaths INTEGER(255), mm_CP_Deaths INTEGER(255), mm_Pct_CP_Death FLOAT(8, 5))\")\n",
    "\n",
    "# cursor.execute(\"CREATE TABLE AQI.index (state_name VARCHAR(255), date DATE, aqi INTEGER(255), category VARCHAR(255), defining_parameter VARCHAR(255), latitude FLOAT(8, 5), longitude FLOAT(8, 5), county_name VARCHAR(255))\")\n",
    "\n",
    "# cursor.execute(\"CREATE TABLE AQI.combined (Year INTEGER(255), State VARCHAR(255), Parameter VARCHAR(255), AQI FLOAT(8, 2), Age_Group VARCHAR(255), Population INTEGER(255), CP_deaths INTEGER(255), Total_deaths INTEGER(255), Pct_CP_Death FLOAT(8, 5))\")\n"
   ]
  },
  {
   "cell_type": "code",
   "execution_count": 12,
   "id": "7da23b21",
   "metadata": {},
   "outputs": [],
   "source": [
    "file_path = \"data/aqi_mort_months_ages_1117.csv\"\n",
    "# file_path = \"data/data_combined_UPDATED1104.csv\"\n",
    "# file_path = \"data/aqi_daily_1980_to_2021.csv\""
   ]
  },
  {
   "cell_type": "code",
   "execution_count": 13,
   "id": "32b4c8cf",
   "metadata": {
    "scrolled": true
   },
   "outputs": [],
   "source": [
    "from csv import reader\n",
    "data = []\n",
    "\n",
    "with open(file_path, 'r') as file:\n",
    "    csv_reader = reader(file)\n",
    "    header = next(csv_reader)\n",
    "    for row in csv_reader:\n",
    "        for i in range(len(row)):\n",
    "            if row[i] == 'NA':\n",
    "                row[i] = None\n",
    "        val = tuple(row[1:])\n",
    "#         val = tuple(row)\n",
    "        data.append(val)"
   ]
  },
  {
   "cell_type": "code",
   "execution_count": 14,
   "id": "57ec1135",
   "metadata": {},
   "outputs": [],
   "source": [
    "sql = \"INSERT INTO AQI.month_mort (mm_Year, mm_Month, mm_State, mm_Parameter, mm_AQI, mm_Age_Group, mm_Deaths, mm_CP_Deaths, mm_Pct_CP_Death) VALUES (%s, %s, %s, %s, %s, %s, %s, %s, %s)\"\n",
    "# sql = \"INSERT INTO AQI.index (state_name, date, aqi, category, defining_parameter, latitude, longitude, county_name) VALUES (%s, %s, %s, %s, %s, %s, %s, %s)\"\n",
    "# sql = \"INSERT INTO AQI.combined (Year, State, Parameter, AQI, Age_Group, Population, CP_deaths, Total_deaths, Pct_CP_Death) VALUES (%s, %s, %s, %s, %s, %s, %s, %s, %s)\"\n",
    "# cursor.executemany(sql, data)\n",
    "# conn.commit()"
   ]
  },
  {
   "cell_type": "code",
   "execution_count": 16,
   "id": "2286fe4a",
   "metadata": {},
   "outputs": [],
   "source": [
    "# i = 0\n",
    "# while i < len(data):\n",
    "#     print(i)\n",
    "#     try:\n",
    "#         d = data[i:i+1000]\n",
    "#     except:\n",
    "#         d = data[i:]\n",
    "#     cursor.executemany(sql, d)\n",
    "#     conn.commit()\n",
    "#     i += 1000"
   ]
  },
  {
   "cell_type": "code",
   "execution_count": 17,
   "id": "77833941",
   "metadata": {},
   "outputs": [],
   "source": [
    "from db_management.database_management import load_data"
   ]
  }
 ],
 "metadata": {
  "kernelspec": {
   "display_name": "Python 3",
   "language": "python",
   "name": "python3"
  },
  "language_info": {
   "codemirror_mode": {
    "name": "ipython",
    "version": 3
   },
   "file_extension": ".py",
   "mimetype": "text/x-python",
   "name": "python",
   "nbconvert_exporter": "python",
   "pygments_lexer": "ipython3",
   "version": "3.8.3"
  }
 },
 "nbformat": 4,
 "nbformat_minor": 5
}
