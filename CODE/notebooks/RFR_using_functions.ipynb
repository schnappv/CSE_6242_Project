{
 "cells": [
  {
   "cell_type": "markdown",
   "id": "9a35dfe8",
   "metadata": {},
   "source": [
    "# Predictive Analysis for CP Mortality Percentage of Population by Conditions Using Random Forest Regression"
   ]
  },
  {
   "cell_type": "code",
   "execution_count": 1,
   "id": "989f3168",
   "metadata": {},
   "outputs": [],
   "source": [
    "import os\n",
    "from pathlib import Path\n",
    "import sys\n",
    "\n",
    "# set working directory to the module's home\n",
    "cwd = os.getcwd()\n",
    "os.chdir(Path(cwd).parents[1])"
   ]
  },
  {
   "cell_type": "code",
   "execution_count": 2,
   "id": "effe7386",
   "metadata": {},
   "outputs": [],
   "source": [
    "import pandas as pd\n",
    "import matplotlib.pyplot as plt\n",
    "import numpy as np\n",
    "\n",
    "from config import connect\n",
    "from db_management.database_management import load_data\n",
    "from modeling.random_forest_regression import RFRegressor"
   ]
  },
  {
   "cell_type": "markdown",
   "id": "c2d23fa5",
   "metadata": {},
   "source": [
    "### Connect to MySQL Database `AQI` for the Table `combined`"
   ]
  },
  {
   "cell_type": "code",
   "execution_count": 3,
   "id": "24f81bdb",
   "metadata": {},
   "outputs": [],
   "source": [
    "conn = connect()\n",
    "cursor = conn.cursor()"
   ]
  },
  {
   "cell_type": "code",
   "execution_count": 4,
   "id": "7605c3c1",
   "metadata": {},
   "outputs": [
    {
     "data": {
      "text/html": [
       "<div>\n",
       "<style scoped>\n",
       "    .dataframe tbody tr th:only-of-type {\n",
       "        vertical-align: middle;\n",
       "    }\n",
       "\n",
       "    .dataframe tbody tr th {\n",
       "        vertical-align: top;\n",
       "    }\n",
       "\n",
       "    .dataframe thead th {\n",
       "        text-align: right;\n",
       "    }\n",
       "</style>\n",
       "<table border=\"1\" class=\"dataframe\">\n",
       "  <thead>\n",
       "    <tr style=\"text-align: right;\">\n",
       "      <th></th>\n",
       "      <th>Year</th>\n",
       "      <th>State</th>\n",
       "      <th>Parameter</th>\n",
       "      <th>AQI</th>\n",
       "      <th>Age_Group</th>\n",
       "      <th>Population</th>\n",
       "      <th>CP_deaths</th>\n",
       "      <th>Total_deaths</th>\n",
       "      <th>Pct_CP_Death</th>\n",
       "    </tr>\n",
       "  </thead>\n",
       "  <tbody>\n",
       "    <tr>\n",
       "      <th>0</th>\n",
       "      <td>1980</td>\n",
       "      <td>Alabama</td>\n",
       "      <td>CO</td>\n",
       "      <td>39.61</td>\n",
       "      <td>&lt; 1 year</td>\n",
       "      <td>63503.0</td>\n",
       "      <td>76.0</td>\n",
       "      <td>962.0</td>\n",
       "      <td>7.90</td>\n",
       "    </tr>\n",
       "    <tr>\n",
       "      <th>1</th>\n",
       "      <td>1980</td>\n",
       "      <td>Alabama</td>\n",
       "      <td>CO</td>\n",
       "      <td>39.61</td>\n",
       "      <td>1-4 years</td>\n",
       "      <td>237138.0</td>\n",
       "      <td>18.0</td>\n",
       "      <td>185.0</td>\n",
       "      <td>9.73</td>\n",
       "    </tr>\n",
       "    <tr>\n",
       "      <th>2</th>\n",
       "      <td>1980</td>\n",
       "      <td>Alabama</td>\n",
       "      <td>CO</td>\n",
       "      <td>39.61</td>\n",
       "      <td>5-9 years</td>\n",
       "      <td>314150.0</td>\n",
       "      <td>8.0</td>\n",
       "      <td>113.0</td>\n",
       "      <td>7.08</td>\n",
       "    </tr>\n",
       "    <tr>\n",
       "      <th>3</th>\n",
       "      <td>1980</td>\n",
       "      <td>Alabama</td>\n",
       "      <td>CO</td>\n",
       "      <td>39.61</td>\n",
       "      <td>10-14 years</td>\n",
       "      <td>328096.0</td>\n",
       "      <td>6.0</td>\n",
       "      <td>125.0</td>\n",
       "      <td>4.80</td>\n",
       "    </tr>\n",
       "    <tr>\n",
       "      <th>4</th>\n",
       "      <td>1980</td>\n",
       "      <td>Alabama</td>\n",
       "      <td>CO</td>\n",
       "      <td>39.61</td>\n",
       "      <td>15-19 years</td>\n",
       "      <td>377406.0</td>\n",
       "      <td>29.0</td>\n",
       "      <td>370.0</td>\n",
       "      <td>7.84</td>\n",
       "    </tr>\n",
       "  </tbody>\n",
       "</table>\n",
       "</div>"
      ],
      "text/plain": [
       "   Year    State Parameter    AQI    Age_Group  Population  CP_deaths  \\\n",
       "0  1980  Alabama        CO  39.61     < 1 year     63503.0       76.0   \n",
       "1  1980  Alabama        CO  39.61    1-4 years    237138.0       18.0   \n",
       "2  1980  Alabama        CO  39.61    5-9 years    314150.0        8.0   \n",
       "3  1980  Alabama        CO  39.61  10-14 years    328096.0        6.0   \n",
       "4  1980  Alabama        CO  39.61  15-19 years    377406.0       29.0   \n",
       "\n",
       "   Total_deaths  Pct_CP_Death  \n",
       "0         962.0          7.90  \n",
       "1         185.0          9.73  \n",
       "2         113.0          7.08  \n",
       "3         125.0          4.80  \n",
       "4         370.0          7.84  "
      ]
     },
     "execution_count": 4,
     "metadata": {},
     "output_type": "execute_result"
    }
   ],
   "source": [
    "df = load_data(conn, \"AQI\", \"combined\")\n",
    "df.head()"
   ]
  },
  {
   "cell_type": "markdown",
   "id": "cda357e3",
   "metadata": {},
   "source": [
    "### Draw a random sample from the data of size 5000"
   ]
  },
  {
   "cell_type": "code",
   "execution_count": 5,
   "id": "d3e07275",
   "metadata": {},
   "outputs": [],
   "source": [
    "sample_df = df.dropna().sample(n=5000)"
   ]
  },
  {
   "cell_type": "markdown",
   "id": "664d0d15",
   "metadata": {},
   "source": [
    "### Build a Random Forest Regression (RFR) model fitted on the sample data"
   ]
  },
  {
   "cell_type": "code",
   "execution_count": 6,
   "id": "66b56f17",
   "metadata": {},
   "outputs": [
    {
     "data": {
      "text/plain": [
       "<modeling.random_forest_regression.RFRegressor at 0x7fb0849b7510>"
      ]
     },
     "execution_count": 6,
     "metadata": {},
     "output_type": "execute_result"
    }
   ],
   "source": [
    "rfr = RFRegressor(target='Pct_CP_Death', features=['AQI', 'Parameter', 'Age_Group'], random_seed=123)\n",
    "\n",
    "# removed State as a feature due to concern of overfitting\n",
    "\n",
    "rfr"
   ]
  },
  {
   "cell_type": "code",
   "execution_count": 7,
   "id": "f095c7f2",
   "metadata": {},
   "outputs": [],
   "source": [
    "rfr.split_and_train(sample_df)"
   ]
  },
  {
   "cell_type": "markdown",
   "id": "7c8b948b",
   "metadata": {},
   "source": [
    "#### Hypertune model parameters and re-train it"
   ]
  },
  {
   "cell_type": "code",
   "execution_count": 8,
   "id": "8ef419d6",
   "metadata": {},
   "outputs": [
    {
     "name": "stdout",
     "output_type": "stream",
     "text": [
      "{'n_estimators': 1000}\n"
     ]
    }
   ],
   "source": [
    "parameters = {\n",
    "    \"n_estimators\": [500, 1000, 1500, 2000],\n",
    "}\n",
    "rfr.hypertune(parameters)"
   ]
  },
  {
   "cell_type": "markdown",
   "id": "31eb128e",
   "metadata": {},
   "source": [
    "#### Predict the target using the train set and the test set. Plot the results for human-eye fit confirmation"
   ]
  },
  {
   "cell_type": "code",
   "execution_count": 9,
   "id": "183806bc",
   "metadata": {},
   "outputs": [
    {
     "data": {
      "text/plain": [
       "0.999787785267176"
      ]
     },
     "execution_count": 9,
     "metadata": {},
     "output_type": "execute_result"
    }
   ],
   "source": [
    "y_predict_train, train_score = rfr.predict_score_train()\n",
    "train_score"
   ]
  },
  {
   "cell_type": "code",
   "execution_count": 10,
   "id": "b03580ef",
   "metadata": {},
   "outputs": [
    {
     "data": {
      "text/plain": [
       "0.9997941205559386"
      ]
     },
     "execution_count": 10,
     "metadata": {},
     "output_type": "execute_result"
    }
   ],
   "source": [
    "y_predict_test, test_score = rfr.predict_score_test()\n",
    "test_score"
   ]
  },
  {
   "cell_type": "code",
   "execution_count": 11,
   "id": "26781f7e",
   "metadata": {},
   "outputs": [
    {
     "data": {
      "image/png": "[encoded data removed]",
      "text/plain": [
       "<Figure size 432x288 with 1 Axes>"
      ]
     },
     "metadata": {
      "needs_background": "light"
     },
     "output_type": "display_data"
    }
   ],
   "source": [
    "plt.scatter(rfr.y_train, y_predict_train)\n",
    "plt.xlabel(\"Actual Train Values\")\n",
    "plt.ylabel(\"Predicted Train Values\")\n",
    "plt.title(\"Actual vs Predicted Train Values\")\n",
    "plt.show()"
   ]
  },
  {
   "cell_type": "code",
   "execution_count": 12,
   "id": "bdc0f47c",
   "metadata": {},
   "outputs": [
    {
     "data": {
      "image/png": "[encoded data removed]",
      "text/plain": [
       "<Figure size 432x288 with 1 Axes>"
      ]
     },
     "metadata": {
      "needs_background": "light"
     },
     "output_type": "display_data"
    }
   ],
   "source": [
    "plt.scatter(rfr.y_test, y_predict_test)\n",
    "plt.xlabel(\"Actual Test Values\")\n",
    "plt.ylabel(\"Predicted Test Values\")\n",
    "plt.title(\"Actual vs Predicted Test Values\")\n",
    "plt.show()"
   ]
  },
  {
   "cell_type": "markdown",
   "id": "0029c94b",
   "metadata": {},
   "source": [
    "### Run the model on a different sample set of the data to see how it performs"
   ]
  },
  {
   "cell_type": "code",
   "execution_count": 13,
   "id": "fec8e7f3",
   "metadata": {},
   "outputs": [],
   "source": [
    "sample_df2 = df.dropna().sample(n=1000)"
   ]
  },
  {
   "cell_type": "code",
   "execution_count": 14,
   "id": "dfd04898",
   "metadata": {},
   "outputs": [],
   "source": [
    "pred_df = rfr.predict_data(sample_df2)"
   ]
  },
  {
   "cell_type": "code",
   "execution_count": 50,
   "id": "1fbeffbb",
   "metadata": {},
   "outputs": [
    {
     "data": {
      "text/html": [
       "<div>\n",
       "<style scoped>\n",
       "    .dataframe tbody tr th:only-of-type {\n",
       "        vertical-align: middle;\n",
       "    }\n",
       "\n",
       "    .dataframe tbody tr th {\n",
       "        vertical-align: top;\n",
       "    }\n",
       "\n",
       "    .dataframe thead th {\n",
       "        text-align: right;\n",
       "    }\n",
       "</style>\n",
       "<table border=\"1\" class=\"dataframe\">\n",
       "  <thead>\n",
       "    <tr style=\"text-align: right;\">\n",
       "      <th></th>\n",
       "      <th>Year</th>\n",
       "      <th>State</th>\n",
       "      <th>Parameter</th>\n",
       "      <th>AQI</th>\n",
       "      <th>Age_Group</th>\n",
       "      <th>Population</th>\n",
       "      <th>CP_deaths</th>\n",
       "      <th>Total_deaths</th>\n",
       "      <th>Pct_CP_Death</th>\n",
       "      <th>predicted_Pct_CP_Death</th>\n",
       "      <th>less_than_5_pct_diff</th>\n",
       "    </tr>\n",
       "  </thead>\n",
       "  <tbody>\n",
       "    <tr>\n",
       "      <th>46913</th>\n",
       "      <td>1998</td>\n",
       "      <td>Illinois</td>\n",
       "      <td>PM10</td>\n",
       "      <td>28.87</td>\n",
       "      <td>25-34 years</td>\n",
       "      <td>1855595.0</td>\n",
       "      <td>312.0</td>\n",
       "      <td>1929.0</td>\n",
       "      <td>16.0</td>\n",
       "      <td>14.0</td>\n",
       "      <td>1</td>\n",
       "    </tr>\n",
       "    <tr>\n",
       "      <th>5765</th>\n",
       "      <td>1982</td>\n",
       "      <td>Missouri</td>\n",
       "      <td>SO2</td>\n",
       "      <td>65.32</td>\n",
       "      <td>10-14 years</td>\n",
       "      <td>377839.0</td>\n",
       "      <td>13.0</td>\n",
       "      <td>102.0</td>\n",
       "      <td>13.0</td>\n",
       "      <td>10.0</td>\n",
       "      <td>1</td>\n",
       "    </tr>\n",
       "    <tr>\n",
       "      <th>48024</th>\n",
       "      <td>1998</td>\n",
       "      <td>Ohio</td>\n",
       "      <td>CO</td>\n",
       "      <td>17.99</td>\n",
       "      <td>&lt; 1 year</td>\n",
       "      <td>152794.0</td>\n",
       "      <td>60.0</td>\n",
       "      <td>1221.0</td>\n",
       "      <td>5.0</td>\n",
       "      <td>4.0</td>\n",
       "      <td>1</td>\n",
       "    </tr>\n",
       "    <tr>\n",
       "      <th>50929</th>\n",
       "      <td>1999</td>\n",
       "      <td>Pennsylvania</td>\n",
       "      <td>CO</td>\n",
       "      <td>23.40</td>\n",
       "      <td>65-74 years</td>\n",
       "      <td>982084.0</td>\n",
       "      <td>11291.0</td>\n",
       "      <td>24839.0</td>\n",
       "      <td>45.0</td>\n",
       "      <td>45.0</td>\n",
       "      <td>1</td>\n",
       "    </tr>\n",
       "    <tr>\n",
       "      <th>69616</th>\n",
       "      <td>2006</td>\n",
       "      <td>Pennsylvania</td>\n",
       "      <td>PM2.5</td>\n",
       "      <td>56.91</td>\n",
       "      <td>55-64 years</td>\n",
       "      <td>1427051.0</td>\n",
       "      <td>4473.0</td>\n",
       "      <td>12745.0</td>\n",
       "      <td>35.0</td>\n",
       "      <td>41.0</td>\n",
       "      <td>0</td>\n",
       "    </tr>\n",
       "    <tr>\n",
       "      <th>...</th>\n",
       "      <td>...</td>\n",
       "      <td>...</td>\n",
       "      <td>...</td>\n",
       "      <td>...</td>\n",
       "      <td>...</td>\n",
       "      <td>...</td>\n",
       "      <td>...</td>\n",
       "      <td>...</td>\n",
       "      <td>...</td>\n",
       "      <td>...</td>\n",
       "      <td>...</td>\n",
       "    </tr>\n",
       "    <tr>\n",
       "      <th>58877</th>\n",
       "      <td>2002</td>\n",
       "      <td>Oklahoma</td>\n",
       "      <td>NO2</td>\n",
       "      <td>28.46</td>\n",
       "      <td>15-19 years</td>\n",
       "      <td>265914.0</td>\n",
       "      <td>17.0</td>\n",
       "      <td>208.0</td>\n",
       "      <td>8.0</td>\n",
       "      <td>5.0</td>\n",
       "      <td>1</td>\n",
       "    </tr>\n",
       "    <tr>\n",
       "      <th>40500</th>\n",
       "      <td>1995</td>\n",
       "      <td>South Carolina</td>\n",
       "      <td>PM10</td>\n",
       "      <td>38.07</td>\n",
       "      <td>65-74 years</td>\n",
       "      <td>265157.0</td>\n",
       "      <td>3895.0</td>\n",
       "      <td>7577.0</td>\n",
       "      <td>51.0</td>\n",
       "      <td>52.0</td>\n",
       "      <td>1</td>\n",
       "    </tr>\n",
       "    <tr>\n",
       "      <th>87163</th>\n",
       "      <td>2013</td>\n",
       "      <td>Texas</td>\n",
       "      <td>CO</td>\n",
       "      <td>5.50</td>\n",
       "      <td>35-44 years</td>\n",
       "      <td>3578793.0</td>\n",
       "      <td>1323.0</td>\n",
       "      <td>5892.0</td>\n",
       "      <td>22.0</td>\n",
       "      <td>25.0</td>\n",
       "      <td>1</td>\n",
       "    </tr>\n",
       "    <tr>\n",
       "      <th>91354</th>\n",
       "      <td>2015</td>\n",
       "      <td>New York</td>\n",
       "      <td>SO2</td>\n",
       "      <td>2.07</td>\n",
       "      <td>75-84 years</td>\n",
       "      <td>871529.0</td>\n",
       "      <td>17343.0</td>\n",
       "      <td>36009.0</td>\n",
       "      <td>48.0</td>\n",
       "      <td>44.0</td>\n",
       "      <td>1</td>\n",
       "    </tr>\n",
       "    <tr>\n",
       "      <th>84239</th>\n",
       "      <td>2012</td>\n",
       "      <td>New Mexico</td>\n",
       "      <td>PM2.5</td>\n",
       "      <td>25.08</td>\n",
       "      <td>85+ years</td>\n",
       "      <td>34769.0</td>\n",
       "      <td>2168.0</td>\n",
       "      <td>4542.0</td>\n",
       "      <td>48.0</td>\n",
       "      <td>53.0</td>\n",
       "      <td>1</td>\n",
       "    </tr>\n",
       "  </tbody>\n",
       "</table>\n",
       "<p>1000 rows × 11 columns</p>\n",
       "</div>"
      ],
      "text/plain": [
       "       Year           State Parameter    AQI    Age_Group  Population  \\\n",
       "46913  1998        Illinois      PM10  28.87  25-34 years   1855595.0   \n",
       "5765   1982        Missouri       SO2  65.32  10-14 years    377839.0   \n",
       "48024  1998            Ohio        CO  17.99     < 1 year    152794.0   \n",
       "50929  1999    Pennsylvania        CO  23.40  65-74 years    982084.0   \n",
       "69616  2006    Pennsylvania     PM2.5  56.91  55-64 years   1427051.0   \n",
       "...     ...             ...       ...    ...          ...         ...   \n",
       "58877  2002        Oklahoma       NO2  28.46  15-19 years    265914.0   \n",
       "40500  1995  South Carolina      PM10  38.07  65-74 years    265157.0   \n",
       "87163  2013           Texas        CO   5.50  35-44 years   3578793.0   \n",
       "91354  2015        New York       SO2   2.07  75-84 years    871529.0   \n",
       "84239  2012      New Mexico     PM2.5  25.08    85+ years     34769.0   \n",
       "\n",
       "       CP_deaths  Total_deaths  Pct_CP_Death  predicted_Pct_CP_Death  \\\n",
       "46913      312.0        1929.0          16.0                    14.0   \n",
       "5765        13.0         102.0          13.0                    10.0   \n",
       "48024       60.0        1221.0           5.0                     4.0   \n",
       "50929    11291.0       24839.0          45.0                    45.0   \n",
       "69616     4473.0       12745.0          35.0                    41.0   \n",
       "...          ...           ...           ...                     ...   \n",
       "58877       17.0         208.0           8.0                     5.0   \n",
       "40500     3895.0        7577.0          51.0                    52.0   \n",
       "87163     1323.0        5892.0          22.0                    25.0   \n",
       "91354    17343.0       36009.0          48.0                    44.0   \n",
       "84239     2168.0        4542.0          48.0                    53.0   \n",
       "\n",
       "       less_than_5_pct_diff  \n",
       "46913                     1  \n",
       "5765                      1  \n",
       "48024                     1  \n",
       "50929                     1  \n",
       "69616                     0  \n",
       "...                     ...  \n",
       "58877                     1  \n",
       "40500                     1  \n",
       "87163                     1  \n",
       "91354                     1  \n",
       "84239                     1  \n",
       "\n",
       "[1000 rows x 11 columns]"
      ]
     },
     "execution_count": 50,
     "metadata": {},
     "output_type": "execute_result"
    }
   ],
   "source": [
    "sample_df2"
   ]
  },
  {
   "cell_type": "code",
   "execution_count": 15,
   "id": "859b3c6f",
   "metadata": {},
   "outputs": [
    {
     "data": {
      "text/html": [
       "<div>\n",
       "<style scoped>\n",
       "    .dataframe tbody tr th:only-of-type {\n",
       "        vertical-align: middle;\n",
       "    }\n",
       "\n",
       "    .dataframe tbody tr th {\n",
       "        vertical-align: top;\n",
       "    }\n",
       "\n",
       "    .dataframe thead th {\n",
       "        text-align: right;\n",
       "    }\n",
       "</style>\n",
       "<table border=\"1\" class=\"dataframe\">\n",
       "  <thead>\n",
       "    <tr style=\"text-align: right;\">\n",
       "      <th></th>\n",
       "      <th>Year</th>\n",
       "      <th>State</th>\n",
       "      <th>Parameter</th>\n",
       "      <th>AQI</th>\n",
       "      <th>Age_Group</th>\n",
       "      <th>Population</th>\n",
       "      <th>CP_deaths</th>\n",
       "      <th>Total_deaths</th>\n",
       "      <th>Pct_CP_Death</th>\n",
       "      <th>predicted_Pct_CP_Death</th>\n",
       "      <th>less_than_5_pct_diff</th>\n",
       "    </tr>\n",
       "  </thead>\n",
       "  <tbody>\n",
       "    <tr>\n",
       "      <th>58877</th>\n",
       "      <td>2002</td>\n",
       "      <td>Oklahoma</td>\n",
       "      <td>NO2</td>\n",
       "      <td>28.46</td>\n",
       "      <td>15-19 years</td>\n",
       "      <td>265914.0</td>\n",
       "      <td>17.0</td>\n",
       "      <td>208.0</td>\n",
       "      <td>8.0</td>\n",
       "      <td>5.0</td>\n",
       "      <td>1</td>\n",
       "    </tr>\n",
       "    <tr>\n",
       "      <th>40500</th>\n",
       "      <td>1995</td>\n",
       "      <td>South Carolina</td>\n",
       "      <td>PM10</td>\n",
       "      <td>38.07</td>\n",
       "      <td>65-74 years</td>\n",
       "      <td>265157.0</td>\n",
       "      <td>3895.0</td>\n",
       "      <td>7577.0</td>\n",
       "      <td>51.0</td>\n",
       "      <td>52.0</td>\n",
       "      <td>1</td>\n",
       "    </tr>\n",
       "    <tr>\n",
       "      <th>87163</th>\n",
       "      <td>2013</td>\n",
       "      <td>Texas</td>\n",
       "      <td>CO</td>\n",
       "      <td>5.50</td>\n",
       "      <td>35-44 years</td>\n",
       "      <td>3578793.0</td>\n",
       "      <td>1323.0</td>\n",
       "      <td>5892.0</td>\n",
       "      <td>22.0</td>\n",
       "      <td>25.0</td>\n",
       "      <td>1</td>\n",
       "    </tr>\n",
       "    <tr>\n",
       "      <th>91354</th>\n",
       "      <td>2015</td>\n",
       "      <td>New York</td>\n",
       "      <td>SO2</td>\n",
       "      <td>2.07</td>\n",
       "      <td>75-84 years</td>\n",
       "      <td>871529.0</td>\n",
       "      <td>17343.0</td>\n",
       "      <td>36009.0</td>\n",
       "      <td>48.0</td>\n",
       "      <td>44.0</td>\n",
       "      <td>1</td>\n",
       "    </tr>\n",
       "    <tr>\n",
       "      <th>84239</th>\n",
       "      <td>2012</td>\n",
       "      <td>New Mexico</td>\n",
       "      <td>PM2.5</td>\n",
       "      <td>25.08</td>\n",
       "      <td>85+ years</td>\n",
       "      <td>34769.0</td>\n",
       "      <td>2168.0</td>\n",
       "      <td>4542.0</td>\n",
       "      <td>48.0</td>\n",
       "      <td>53.0</td>\n",
       "      <td>1</td>\n",
       "    </tr>\n",
       "  </tbody>\n",
       "</table>\n",
       "</div>"
      ],
      "text/plain": [
       "       Year           State Parameter    AQI    Age_Group  Population  \\\n",
       "58877  2002        Oklahoma       NO2  28.46  15-19 years    265914.0   \n",
       "40500  1995  South Carolina      PM10  38.07  65-74 years    265157.0   \n",
       "87163  2013           Texas        CO   5.50  35-44 years   3578793.0   \n",
       "91354  2015        New York       SO2   2.07  75-84 years    871529.0   \n",
       "84239  2012      New Mexico     PM2.5  25.08    85+ years     34769.0   \n",
       "\n",
       "       CP_deaths  Total_deaths  Pct_CP_Death  predicted_Pct_CP_Death  \\\n",
       "58877       17.0         208.0           8.0                     5.0   \n",
       "40500     3895.0        7577.0          51.0                    52.0   \n",
       "87163     1323.0        5892.0          22.0                    25.0   \n",
       "91354    17343.0       36009.0          48.0                    44.0   \n",
       "84239     2168.0        4542.0          48.0                    53.0   \n",
       "\n",
       "       less_than_5_pct_diff  \n",
       "58877                     1  \n",
       "40500                     1  \n",
       "87163                     1  \n",
       "91354                     1  \n",
       "84239                     1  "
      ]
     },
     "execution_count": 15,
     "metadata": {},
     "output_type": "execute_result"
    }
   ],
   "source": [
    "pred_df['less_than_5_pct_diff'] = 1\n",
    "pred_df.loc[np.abs(pred_df['Pct_CP_Death'] - pred_df['predicted_Pct_CP_Death']) > 5, 'less_than_5_pct_diff'] = 0\n",
    "\n",
    "pred_df.tail()"
   ]
  },
  {
   "cell_type": "code",
   "execution_count": 16,
   "id": "1e4ae47c",
   "metadata": {},
   "outputs": [
    {
     "data": {
      "text/plain": [
       "0.752"
      ]
     },
     "execution_count": 16,
     "metadata": {},
     "output_type": "execute_result"
    }
   ],
   "source": [
    "values = pred_df.less_than_5_pct_diff.value_counts()\n",
    "values[1] / (values[1] + values[0])"
   ]
  },
  {
   "cell_type": "markdown",
   "id": "37f95407",
   "metadata": {},
   "source": [
    "### Plot Feature Importance"
   ]
  },
  {
   "cell_type": "code",
   "execution_count": 17,
   "id": "970382f0",
   "metadata": {},
   "outputs": [
    {
     "data": {
      "text/html": [
       "<div>\n",
       "<style scoped>\n",
       "    .dataframe tbody tr th:only-of-type {\n",
       "        vertical-align: middle;\n",
       "    }\n",
       "\n",
       "    .dataframe tbody tr th {\n",
       "        vertical-align: top;\n",
       "    }\n",
       "\n",
       "    .dataframe thead th {\n",
       "        text-align: right;\n",
       "    }\n",
       "</style>\n",
       "<table border=\"1\" class=\"dataframe\">\n",
       "  <thead>\n",
       "    <tr style=\"text-align: right;\">\n",
       "      <th></th>\n",
       "      <th>importance</th>\n",
       "    </tr>\n",
       "    <tr>\n",
       "      <th>field</th>\n",
       "      <th></th>\n",
       "    </tr>\n",
       "  </thead>\n",
       "  <tbody>\n",
       "    <tr>\n",
       "      <th>AQI</th>\n",
       "      <td>0.052556</td>\n",
       "    </tr>\n",
       "    <tr>\n",
       "      <th>Parameter_CO</th>\n",
       "      <td>0.003079</td>\n",
       "    </tr>\n",
       "    <tr>\n",
       "      <th>Parameter_NO2</th>\n",
       "      <td>0.002094</td>\n",
       "    </tr>\n",
       "    <tr>\n",
       "      <th>Parameter_Ozone</th>\n",
       "      <td>0.001934</td>\n",
       "    </tr>\n",
       "    <tr>\n",
       "      <th>Parameter_PM10</th>\n",
       "      <td>0.001921</td>\n",
       "    </tr>\n",
       "    <tr>\n",
       "      <th>Parameter_PM2.5</th>\n",
       "      <td>0.002904</td>\n",
       "    </tr>\n",
       "    <tr>\n",
       "      <th>Parameter_SO2</th>\n",
       "      <td>0.001899</td>\n",
       "    </tr>\n",
       "    <tr>\n",
       "      <th>Age_Group_1-4 years</th>\n",
       "      <td>0.000488</td>\n",
       "    </tr>\n",
       "    <tr>\n",
       "      <th>Age_Group_10-14 years</th>\n",
       "      <td>0.000337</td>\n",
       "    </tr>\n",
       "    <tr>\n",
       "      <th>Age_Group_15-19 years</th>\n",
       "      <td>0.002347</td>\n",
       "    </tr>\n",
       "    <tr>\n",
       "      <th>Age_Group_20-24 years</th>\n",
       "      <td>0.002676</td>\n",
       "    </tr>\n",
       "    <tr>\n",
       "      <th>Age_Group_25-34 years</th>\n",
       "      <td>0.000469</td>\n",
       "    </tr>\n",
       "    <tr>\n",
       "      <th>Age_Group_35-44 years</th>\n",
       "      <td>0.037389</td>\n",
       "    </tr>\n",
       "    <tr>\n",
       "      <th>Age_Group_45-54 years</th>\n",
       "      <td>0.095123</td>\n",
       "    </tr>\n",
       "    <tr>\n",
       "      <th>Age_Group_5-9 years</th>\n",
       "      <td>0.000348</td>\n",
       "    </tr>\n",
       "    <tr>\n",
       "      <th>Age_Group_55-64 years</th>\n",
       "      <td>0.124353</td>\n",
       "    </tr>\n",
       "    <tr>\n",
       "      <th>Age_Group_65-74 years</th>\n",
       "      <td>0.171612</td>\n",
       "    </tr>\n",
       "    <tr>\n",
       "      <th>Age_Group_75-84 years</th>\n",
       "      <td>0.223017</td>\n",
       "    </tr>\n",
       "    <tr>\n",
       "      <th>Age_Group_85+ years</th>\n",
       "      <td>0.272973</td>\n",
       "    </tr>\n",
       "    <tr>\n",
       "      <th>Age_Group_&lt; 1 year</th>\n",
       "      <td>0.002481</td>\n",
       "    </tr>\n",
       "  </tbody>\n",
       "</table>\n",
       "</div>"
      ],
      "text/plain": [
       "                       importance\n",
       "field                            \n",
       "AQI                      0.052556\n",
       "Parameter_CO             0.003079\n",
       "Parameter_NO2            0.002094\n",
       "Parameter_Ozone          0.001934\n",
       "Parameter_PM10           0.001921\n",
       "Parameter_PM2.5          0.002904\n",
       "Parameter_SO2            0.001899\n",
       "Age_Group_1-4 years      0.000488\n",
       "Age_Group_10-14 years    0.000337\n",
       "Age_Group_15-19 years    0.002347\n",
       "Age_Group_20-24 years    0.002676\n",
       "Age_Group_25-34 years    0.000469\n",
       "Age_Group_35-44 years    0.037389\n",
       "Age_Group_45-54 years    0.095123\n",
       "Age_Group_5-9 years      0.000348\n",
       "Age_Group_55-64 years    0.124353\n",
       "Age_Group_65-74 years    0.171612\n",
       "Age_Group_75-84 years    0.223017\n",
       "Age_Group_85+ years      0.272973\n",
       "Age_Group_< 1 year       0.002481"
      ]
     },
     "execution_count": 17,
     "metadata": {},
     "output_type": "execute_result"
    }
   ],
   "source": [
    "features = pd.DataFrame(\n",
    "    {\n",
    "        \"field\": rfr.rf_reg.feature_names_in_,\n",
    "        \"importance\": rfr.rf_reg.feature_importances_\n",
    "    }\n",
    ")\n",
    "features = features.set_index('field')\n",
    "features"
   ]
  },
  {
   "cell_type": "code",
   "execution_count": 18,
   "id": "8bc1210f",
   "metadata": {},
   "outputs": [],
   "source": [
    "limited = features.sort_values(\"importance\", ascending=False).head(10)"
   ]
  },
  {
   "cell_type": "code",
   "execution_count": 19,
   "id": "8e4c4b46",
   "metadata": {},
   "outputs": [
    {
     "data": {
      "image/png": "[encoded data removed]",
      "text/plain": [
       "<Figure size 432x288 with 1 Axes>"
      ]
     },
     "metadata": {
      "needs_background": "light"
     },
     "output_type": "display_data"
    }
   ],
   "source": [
    "plt.barh(limited.index, limited.importance)\n",
    "plt.title(\"Feature Importance: Top 10\")\n",
    "plt.show()"
   ]
  },
  {
   "cell_type": "markdown",
   "id": "5e739daa",
   "metadata": {},
   "source": [
    "### Make data for Qlik"
   ]
  },
  {
   "cell_type": "code",
   "execution_count": 21,
   "id": "0441c4af",
   "metadata": {},
   "outputs": [
    {
     "data": {
      "text/html": [
       "<div>\n",
       "<style scoped>\n",
       "    .dataframe tbody tr th:only-of-type {\n",
       "        vertical-align: middle;\n",
       "    }\n",
       "\n",
       "    .dataframe tbody tr th {\n",
       "        vertical-align: top;\n",
       "    }\n",
       "\n",
       "    .dataframe thead th {\n",
       "        text-align: right;\n",
       "    }\n",
       "</style>\n",
       "<table border=\"1\" class=\"dataframe\">\n",
       "  <thead>\n",
       "    <tr style=\"text-align: right;\">\n",
       "      <th></th>\n",
       "      <th>Parameter</th>\n",
       "      <th>AQI</th>\n",
       "      <th>Age_Group</th>\n",
       "      <th>Pct_CP_Death</th>\n",
       "      <th>predicted_Pct_CP_Death</th>\n",
       "    </tr>\n",
       "  </thead>\n",
       "  <tbody>\n",
       "    <tr>\n",
       "      <th>46913</th>\n",
       "      <td>PM10</td>\n",
       "      <td>28.87</td>\n",
       "      <td>25-34 years</td>\n",
       "      <td>16.0</td>\n",
       "      <td>14.0</td>\n",
       "    </tr>\n",
       "    <tr>\n",
       "      <th>5765</th>\n",
       "      <td>SO2</td>\n",
       "      <td>65.32</td>\n",
       "      <td>10-14 years</td>\n",
       "      <td>13.0</td>\n",
       "      <td>10.0</td>\n",
       "    </tr>\n",
       "    <tr>\n",
       "      <th>48024</th>\n",
       "      <td>CO</td>\n",
       "      <td>17.99</td>\n",
       "      <td>&lt; 1 year</td>\n",
       "      <td>5.0</td>\n",
       "      <td>4.0</td>\n",
       "    </tr>\n",
       "    <tr>\n",
       "      <th>50929</th>\n",
       "      <td>CO</td>\n",
       "      <td>23.40</td>\n",
       "      <td>65-74 years</td>\n",
       "      <td>45.0</td>\n",
       "      <td>45.0</td>\n",
       "    </tr>\n",
       "    <tr>\n",
       "      <th>69616</th>\n",
       "      <td>PM2.5</td>\n",
       "      <td>56.91</td>\n",
       "      <td>55-64 years</td>\n",
       "      <td>35.0</td>\n",
       "      <td>41.0</td>\n",
       "    </tr>\n",
       "  </tbody>\n",
       "</table>\n",
       "</div>"
      ],
      "text/plain": [
       "      Parameter    AQI    Age_Group  Pct_CP_Death  predicted_Pct_CP_Death\n",
       "46913      PM10  28.87  25-34 years          16.0                    14.0\n",
       "5765        SO2  65.32  10-14 years          13.0                    10.0\n",
       "48024        CO  17.99     < 1 year           5.0                     4.0\n",
       "50929        CO  23.40  65-74 years          45.0                    45.0\n",
       "69616     PM2.5  56.91  55-64 years          35.0                    41.0"
      ]
     },
     "execution_count": 21,
     "metadata": {},
     "output_type": "execute_result"
    }
   ],
   "source": [
    "deploy_df = pred_df[[\"Parameter\", \"AQI\", \"Age_Group\", \"Pct_CP_Death\", \"predicted_Pct_CP_Death\"]]\n",
    "deploy_df.head()"
   ]
  },
  {
   "cell_type": "code",
   "execution_count": 24,
   "id": "46f5b5ed",
   "metadata": {},
   "outputs": [
    {
     "data": {
      "text/plain": [
       "158.0"
      ]
     },
     "execution_count": 24,
     "metadata": {},
     "output_type": "execute_result"
    }
   ],
   "source": [
    "np.ceil(df.AQI.max())"
   ]
  },
  {
   "cell_type": "code",
   "execution_count": 34,
   "id": "c6742904",
   "metadata": {},
   "outputs": [],
   "source": [
    "aqi_range = range(0, int(np.ceil(df.AQI.max())+1))\n",
    "aqi_list = list(aqi_range)"
   ]
  },
  {
   "cell_type": "code",
   "execution_count": 37,
   "id": "332930d2",
   "metadata": {},
   "outputs": [
    {
     "data": {
      "text/plain": [
       "['CO', 'NO2', 'Ozone', 'SO2', 'PM10', 'PM2.5']"
      ]
     },
     "execution_count": 37,
     "metadata": {},
     "output_type": "execute_result"
    }
   ],
   "source": [
    "param_list = df.Parameter.unique().tolist()\n",
    "param_list"
   ]
  },
  {
   "cell_type": "code",
   "execution_count": 33,
   "id": "74bbc0ab",
   "metadata": {},
   "outputs": [
    {
     "data": {
      "text/plain": [
       "['< 1 year',\n",
       " '1-4 years',\n",
       " '5-9 years',\n",
       " '10-14 years',\n",
       " '15-19 years',\n",
       " '20-24 years',\n",
       " '25-34 years',\n",
       " '35-44 years',\n",
       " '45-54 years',\n",
       " '55-64 years',\n",
       " '65-74 years',\n",
       " '75-84 years',\n",
       " '85+ years']"
      ]
     },
     "execution_count": 33,
     "metadata": {},
     "output_type": "execute_result"
    }
   ],
   "source": [
    "age_list = df.Age_Group.unique().tolist()[:-1]\n",
    "age_list"
   ]
  },
  {
   "cell_type": "code",
   "execution_count": 35,
   "id": "9982647b",
   "metadata": {},
   "outputs": [],
   "source": [
    "import itertools"
   ]
  },
  {
   "cell_type": "code",
   "execution_count": 41,
   "id": "b7e8ede6",
   "metadata": {},
   "outputs": [],
   "source": [
    "a = [aqi_range, param_list, age_list]\n",
    "result = list(itertools.product(*a))"
   ]
  },
  {
   "cell_type": "code",
   "execution_count": 48,
   "id": "85fe6fce",
   "metadata": {},
   "outputs": [
    {
     "data": {
      "text/html": [
       "<div>\n",
       "<style scoped>\n",
       "    .dataframe tbody tr th:only-of-type {\n",
       "        vertical-align: middle;\n",
       "    }\n",
       "\n",
       "    .dataframe tbody tr th {\n",
       "        vertical-align: top;\n",
       "    }\n",
       "\n",
       "    .dataframe thead th {\n",
       "        text-align: right;\n",
       "    }\n",
       "</style>\n",
       "<table border=\"1\" class=\"dataframe\">\n",
       "  <thead>\n",
       "    <tr style=\"text-align: right;\">\n",
       "      <th></th>\n",
       "      <th>AQI</th>\n",
       "      <th>Parameter</th>\n",
       "      <th>Age_Group</th>\n",
       "    </tr>\n",
       "  </thead>\n",
       "  <tbody>\n",
       "    <tr>\n",
       "      <th>0</th>\n",
       "      <td>0</td>\n",
       "      <td>CO</td>\n",
       "      <td>&lt; 1 year</td>\n",
       "    </tr>\n",
       "    <tr>\n",
       "      <th>1</th>\n",
       "      <td>0</td>\n",
       "      <td>CO</td>\n",
       "      <td>1-4 years</td>\n",
       "    </tr>\n",
       "    <tr>\n",
       "      <th>2</th>\n",
       "      <td>0</td>\n",
       "      <td>CO</td>\n",
       "      <td>5-9 years</td>\n",
       "    </tr>\n",
       "    <tr>\n",
       "      <th>3</th>\n",
       "      <td>0</td>\n",
       "      <td>CO</td>\n",
       "      <td>10-14 years</td>\n",
       "    </tr>\n",
       "    <tr>\n",
       "      <th>4</th>\n",
       "      <td>0</td>\n",
       "      <td>CO</td>\n",
       "      <td>15-19 years</td>\n",
       "    </tr>\n",
       "    <tr>\n",
       "      <th>...</th>\n",
       "      <td>...</td>\n",
       "      <td>...</td>\n",
       "      <td>...</td>\n",
       "    </tr>\n",
       "    <tr>\n",
       "      <th>12397</th>\n",
       "      <td>158</td>\n",
       "      <td>PM2.5</td>\n",
       "      <td>45-54 years</td>\n",
       "    </tr>\n",
       "    <tr>\n",
       "      <th>12398</th>\n",
       "      <td>158</td>\n",
       "      <td>PM2.5</td>\n",
       "      <td>55-64 years</td>\n",
       "    </tr>\n",
       "    <tr>\n",
       "      <th>12399</th>\n",
       "      <td>158</td>\n",
       "      <td>PM2.5</td>\n",
       "      <td>65-74 years</td>\n",
       "    </tr>\n",
       "    <tr>\n",
       "      <th>12400</th>\n",
       "      <td>158</td>\n",
       "      <td>PM2.5</td>\n",
       "      <td>75-84 years</td>\n",
       "    </tr>\n",
       "    <tr>\n",
       "      <th>12401</th>\n",
       "      <td>158</td>\n",
       "      <td>PM2.5</td>\n",
       "      <td>85+ years</td>\n",
       "    </tr>\n",
       "  </tbody>\n",
       "</table>\n",
       "<p>12402 rows × 3 columns</p>\n",
       "</div>"
      ],
      "text/plain": [
       "       AQI Parameter    Age_Group\n",
       "0        0        CO     < 1 year\n",
       "1        0        CO    1-4 years\n",
       "2        0        CO    5-9 years\n",
       "3        0        CO  10-14 years\n",
       "4        0        CO  15-19 years\n",
       "...    ...       ...          ...\n",
       "12397  158     PM2.5  45-54 years\n",
       "12398  158     PM2.5  55-64 years\n",
       "12399  158     PM2.5  65-74 years\n",
       "12400  158     PM2.5  75-84 years\n",
       "12401  158     PM2.5    85+ years\n",
       "\n",
       "[12402 rows x 3 columns]"
      ]
     },
     "execution_count": 48,
     "metadata": {},
     "output_type": "execute_result"
    }
   ],
   "source": [
    "new_df = pd.DataFrame(result, columns=['AQI', 'Parameter', 'Age_Group'])\n",
    "new_df"
   ]
  },
  {
   "cell_type": "code",
   "execution_count": 52,
   "id": "c60850fa",
   "metadata": {},
   "outputs": [
    {
     "data": {
      "text/html": [
       "<div>\n",
       "<style scoped>\n",
       "    .dataframe tbody tr th:only-of-type {\n",
       "        vertical-align: middle;\n",
       "    }\n",
       "\n",
       "    .dataframe tbody tr th {\n",
       "        vertical-align: top;\n",
       "    }\n",
       "\n",
       "    .dataframe thead th {\n",
       "        text-align: right;\n",
       "    }\n",
       "</style>\n",
       "<table border=\"1\" class=\"dataframe\">\n",
       "  <thead>\n",
       "    <tr style=\"text-align: right;\">\n",
       "      <th></th>\n",
       "      <th>AQI</th>\n",
       "      <th>Parameter</th>\n",
       "      <th>Age_Group</th>\n",
       "      <th>predicted_Pct_CP_Death</th>\n",
       "    </tr>\n",
       "  </thead>\n",
       "  <tbody>\n",
       "    <tr>\n",
       "      <th>0</th>\n",
       "      <td>0</td>\n",
       "      <td>CO</td>\n",
       "      <td>&lt; 1 year</td>\n",
       "      <td>4</td>\n",
       "    </tr>\n",
       "    <tr>\n",
       "      <th>1</th>\n",
       "      <td>0</td>\n",
       "      <td>CO</td>\n",
       "      <td>1-4 years</td>\n",
       "      <td>13</td>\n",
       "    </tr>\n",
       "    <tr>\n",
       "      <th>2</th>\n",
       "      <td>0</td>\n",
       "      <td>CO</td>\n",
       "      <td>5-9 years</td>\n",
       "      <td>17</td>\n",
       "    </tr>\n",
       "    <tr>\n",
       "      <th>3</th>\n",
       "      <td>0</td>\n",
       "      <td>CO</td>\n",
       "      <td>10-14 years</td>\n",
       "      <td>13</td>\n",
       "    </tr>\n",
       "    <tr>\n",
       "      <th>4</th>\n",
       "      <td>0</td>\n",
       "      <td>CO</td>\n",
       "      <td>15-19 years</td>\n",
       "      <td>7</td>\n",
       "    </tr>\n",
       "    <tr>\n",
       "      <th>...</th>\n",
       "      <td>...</td>\n",
       "      <td>...</td>\n",
       "      <td>...</td>\n",
       "      <td>...</td>\n",
       "    </tr>\n",
       "    <tr>\n",
       "      <th>12397</th>\n",
       "      <td>158</td>\n",
       "      <td>PM2.5</td>\n",
       "      <td>45-54 years</td>\n",
       "      <td>37</td>\n",
       "    </tr>\n",
       "    <tr>\n",
       "      <th>12398</th>\n",
       "      <td>158</td>\n",
       "      <td>PM2.5</td>\n",
       "      <td>55-64 years</td>\n",
       "      <td>39</td>\n",
       "    </tr>\n",
       "    <tr>\n",
       "      <th>12399</th>\n",
       "      <td>158</td>\n",
       "      <td>PM2.5</td>\n",
       "      <td>65-74 years</td>\n",
       "      <td>49</td>\n",
       "    </tr>\n",
       "    <tr>\n",
       "      <th>12400</th>\n",
       "      <td>158</td>\n",
       "      <td>PM2.5</td>\n",
       "      <td>75-84 years</td>\n",
       "      <td>59</td>\n",
       "    </tr>\n",
       "    <tr>\n",
       "      <th>12401</th>\n",
       "      <td>158</td>\n",
       "      <td>PM2.5</td>\n",
       "      <td>85+ years</td>\n",
       "      <td>56</td>\n",
       "    </tr>\n",
       "  </tbody>\n",
       "</table>\n",
       "<p>12402 rows × 4 columns</p>\n",
       "</div>"
      ],
      "text/plain": [
       "       AQI Parameter    Age_Group  predicted_Pct_CP_Death\n",
       "0        0        CO     < 1 year                       4\n",
       "1        0        CO    1-4 years                      13\n",
       "2        0        CO    5-9 years                      17\n",
       "3        0        CO  10-14 years                      13\n",
       "4        0        CO  15-19 years                       7\n",
       "...    ...       ...          ...                     ...\n",
       "12397  158     PM2.5  45-54 years                      37\n",
       "12398  158     PM2.5  55-64 years                      39\n",
       "12399  158     PM2.5  65-74 years                      49\n",
       "12400  158     PM2.5  75-84 years                      59\n",
       "12401  158     PM2.5    85+ years                      56\n",
       "\n",
       "[12402 rows x 4 columns]"
      ]
     },
     "execution_count": 52,
     "metadata": {},
     "output_type": "execute_result"
    }
   ],
   "source": [
    "dep_df = rfr.predict_data(new_df, round_target=False)\n",
    "dep_df[\"predicted_Pct_CP_Death\"] = dep_df.predicted_Pct_CP_Death.astype(int)\n",
    "dep_df"
   ]
  },
  {
   "cell_type": "code",
   "execution_count": 54,
   "id": "7a4be495",
   "metadata": {},
   "outputs": [],
   "source": [
    "dep_df.to_csv(\"data/rfr_results.csv\")"
   ]
  },
  {
   "cell_type": "code",
   "execution_count": 63,
   "id": "0adaf6e1",
   "metadata": {},
   "outputs": [],
   "source": [
    "test_train = pd.DataFrame({\"actual\": rfr.y_train, \"predicted\": y_predict_train, \"test_or_train\":\"train\"}).append(pd.DataFrame({\"actual\": rfr.y_test, \"predicted\": y_predict_test, \"test_or_train\":\"test\"})).reset_index(drop=True)"
   ]
  },
  {
   "cell_type": "code",
   "execution_count": 64,
   "id": "ee9b30c5",
   "metadata": {},
   "outputs": [],
   "source": [
    "test_train.to_csv(\"data/rfr_test_train.csv\")"
   ]
  },
  {
   "cell_type": "code",
   "execution_count": null,
   "id": "b230715e",
   "metadata": {},
   "outputs": [],
   "source": []
  }
 ],
 "metadata": {
  "kernelspec": {
   "display_name": "Python 3",
   "language": "python",
   "name": "python3"
  },
  "language_info": {
   "codemirror_mode": {
    "name": "ipython",
    "version": 3
   },
   "file_extension": ".py",
   "mimetype": "text/x-python",
   "name": "python",
   "nbconvert_exporter": "python",
   "pygments_lexer": "ipython3",
   "version": "3.8.3"
  }
 },
 "nbformat": 4,
 "nbformat_minor": 5
}
