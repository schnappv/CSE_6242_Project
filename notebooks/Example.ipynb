{
 "cells": [
  {
   "cell_type": "code",
   "execution_count": 1,
   "id": "989f3168",
   "metadata": {},
   "outputs": [
    {
     "name": "stdout",
     "output_type": "stream",
     "text": [
      "/Users/valerieschnapp/Desktop/GT/CSE_6242/project/CSE_6242_Project\n"
     ]
    }
   ],
   "source": [
    "cd .."
   ]
  },
  {
   "cell_type": "code",
   "execution_count": 2,
   "id": "effe7386",
   "metadata": {},
   "outputs": [],
   "source": [
    "from config import connect\n",
    "import pandas as pd"
   ]
  },
  {
   "cell_type": "code",
   "execution_count": 3,
   "id": "24f81bdb",
   "metadata": {},
   "outputs": [],
   "source": [
    "conn = connect()"
   ]
  },
  {
   "cell_type": "code",
   "execution_count": 4,
   "id": "8c435a26",
   "metadata": {},
   "outputs": [],
   "source": [
    "cursor = conn.cursor()"
   ]
  },
  {
   "cell_type": "code",
   "execution_count": 5,
   "id": "fdde4f7a",
   "metadata": {},
   "outputs": [],
   "source": [
    "q = \"SELECT * FROM AQI.combined WHERE State='Virginia'\"\n",
    "cursor.execute(q)"
   ]
  },
  {
   "cell_type": "code",
   "execution_count": 6,
   "id": "88c70c17",
   "metadata": {},
   "outputs": [
    {
     "name": "stdout",
     "output_type": "stream",
     "text": [
      "['Year', 'State', 'Parameter', 'AQI', 'Age_Group', 'Population', 'CP_deaths', 'Total_deaths', 'Pct_CP_Death']\n"
     ]
    }
   ],
   "source": [
    "num_fields = len(cursor.description)\n",
    "field_names = [i[0] for i in cursor.description]\n",
    "print(field_names)"
   ]
  },
  {
   "cell_type": "code",
   "execution_count": 7,
   "id": "3dd55e0d",
   "metadata": {},
   "outputs": [],
   "source": [
    "table_rows = cursor.fetchall()"
   ]
  },
  {
   "cell_type": "code",
   "execution_count": 8,
   "id": "7605c3c1",
   "metadata": {},
   "outputs": [],
   "source": [
    "virginia_df = pd.DataFrame(table_rows, columns=field_names)"
   ]
  },
  {
   "cell_type": "code",
   "execution_count": 9,
   "id": "8450bc85",
   "metadata": {},
   "outputs": [
    {
     "data": {
      "text/html": [
       "<div>\n",
       "<style scoped>\n",
       "    .dataframe tbody tr th:only-of-type {\n",
       "        vertical-align: middle;\n",
       "    }\n",
       "\n",
       "    .dataframe tbody tr th {\n",
       "        vertical-align: top;\n",
       "    }\n",
       "\n",
       "    .dataframe thead th {\n",
       "        text-align: right;\n",
       "    }\n",
       "</style>\n",
       "<table border=\"1\" class=\"dataframe\">\n",
       "  <thead>\n",
       "    <tr style=\"text-align: right;\">\n",
       "      <th></th>\n",
       "      <th>Year</th>\n",
       "      <th>State</th>\n",
       "      <th>Parameter</th>\n",
       "      <th>AQI</th>\n",
       "      <th>Age_Group</th>\n",
       "      <th>Population</th>\n",
       "      <th>CP_deaths</th>\n",
       "      <th>Total_deaths</th>\n",
       "      <th>Pct_CP_Death</th>\n",
       "    </tr>\n",
       "  </thead>\n",
       "  <tbody>\n",
       "    <tr>\n",
       "      <th>0</th>\n",
       "      <td>1980</td>\n",
       "      <td>Virginia</td>\n",
       "      <td>CO</td>\n",
       "      <td>29.26</td>\n",
       "      <td>&lt; 1 year</td>\n",
       "      <td>78443.0</td>\n",
       "      <td>59.0</td>\n",
       "      <td>1067.0</td>\n",
       "      <td>5.53</td>\n",
       "    </tr>\n",
       "    <tr>\n",
       "      <th>1</th>\n",
       "      <td>1980</td>\n",
       "      <td>Virginia</td>\n",
       "      <td>CO</td>\n",
       "      <td>29.26</td>\n",
       "      <td>1-4 years</td>\n",
       "      <td>288563.0</td>\n",
       "      <td>18.0</td>\n",
       "      <td>166.0</td>\n",
       "      <td>10.84</td>\n",
       "    </tr>\n",
       "    <tr>\n",
       "      <th>2</th>\n",
       "      <td>1980</td>\n",
       "      <td>Virginia</td>\n",
       "      <td>CO</td>\n",
       "      <td>29.26</td>\n",
       "      <td>5-9 years</td>\n",
       "      <td>387524.0</td>\n",
       "      <td>11.0</td>\n",
       "      <td>95.0</td>\n",
       "      <td>11.58</td>\n",
       "    </tr>\n",
       "    <tr>\n",
       "      <th>3</th>\n",
       "      <td>1980</td>\n",
       "      <td>Virginia</td>\n",
       "      <td>CO</td>\n",
       "      <td>29.26</td>\n",
       "      <td>10-14 years</td>\n",
       "      <td>431051.0</td>\n",
       "      <td>7.0</td>\n",
       "      <td>115.0</td>\n",
       "      <td>6.09</td>\n",
       "    </tr>\n",
       "    <tr>\n",
       "      <th>4</th>\n",
       "      <td>1980</td>\n",
       "      <td>Virginia</td>\n",
       "      <td>CO</td>\n",
       "      <td>29.26</td>\n",
       "      <td>15-19 years</td>\n",
       "      <td>505674.0</td>\n",
       "      <td>30.0</td>\n",
       "      <td>468.0</td>\n",
       "      <td>6.41</td>\n",
       "    </tr>\n",
       "    <tr>\n",
       "      <th>...</th>\n",
       "      <td>...</td>\n",
       "      <td>...</td>\n",
       "      <td>...</td>\n",
       "      <td>...</td>\n",
       "      <td>...</td>\n",
       "      <td>...</td>\n",
       "      <td>...</td>\n",
       "      <td>...</td>\n",
       "      <td>...</td>\n",
       "    </tr>\n",
       "    <tr>\n",
       "      <th>2540</th>\n",
       "      <td>2020</td>\n",
       "      <td>Virginia</td>\n",
       "      <td>PM10</td>\n",
       "      <td>7.24</td>\n",
       "      <td>None</td>\n",
       "      <td>NaN</td>\n",
       "      <td>NaN</td>\n",
       "      <td>NaN</td>\n",
       "      <td>NaN</td>\n",
       "    </tr>\n",
       "    <tr>\n",
       "      <th>2541</th>\n",
       "      <td>2020</td>\n",
       "      <td>Virginia</td>\n",
       "      <td>PM2.5</td>\n",
       "      <td>31.52</td>\n",
       "      <td>None</td>\n",
       "      <td>NaN</td>\n",
       "      <td>NaN</td>\n",
       "      <td>NaN</td>\n",
       "      <td>NaN</td>\n",
       "    </tr>\n",
       "    <tr>\n",
       "      <th>2542</th>\n",
       "      <td>2020</td>\n",
       "      <td>Virginia</td>\n",
       "      <td>SO2</td>\n",
       "      <td>21.90</td>\n",
       "      <td>None</td>\n",
       "      <td>NaN</td>\n",
       "      <td>NaN</td>\n",
       "      <td>NaN</td>\n",
       "      <td>NaN</td>\n",
       "    </tr>\n",
       "    <tr>\n",
       "      <th>2543</th>\n",
       "      <td>2021</td>\n",
       "      <td>Virginia</td>\n",
       "      <td>Ozone</td>\n",
       "      <td>31.75</td>\n",
       "      <td>None</td>\n",
       "      <td>NaN</td>\n",
       "      <td>NaN</td>\n",
       "      <td>NaN</td>\n",
       "      <td>NaN</td>\n",
       "    </tr>\n",
       "    <tr>\n",
       "      <th>2544</th>\n",
       "      <td>2021</td>\n",
       "      <td>Virginia</td>\n",
       "      <td>PM10</td>\n",
       "      <td>4.14</td>\n",
       "      <td>None</td>\n",
       "      <td>NaN</td>\n",
       "      <td>NaN</td>\n",
       "      <td>NaN</td>\n",
       "      <td>NaN</td>\n",
       "    </tr>\n",
       "  </tbody>\n",
       "</table>\n",
       "<p>2545 rows × 9 columns</p>\n",
       "</div>"
      ],
      "text/plain": [
       "      Year     State Parameter    AQI    Age_Group  Population  CP_deaths  \\\n",
       "0     1980  Virginia        CO  29.26     < 1 year     78443.0       59.0   \n",
       "1     1980  Virginia        CO  29.26    1-4 years    288563.0       18.0   \n",
       "2     1980  Virginia        CO  29.26    5-9 years    387524.0       11.0   \n",
       "3     1980  Virginia        CO  29.26  10-14 years    431051.0        7.0   \n",
       "4     1980  Virginia        CO  29.26  15-19 years    505674.0       30.0   \n",
       "...    ...       ...       ...    ...          ...         ...        ...   \n",
       "2540  2020  Virginia      PM10   7.24         None         NaN        NaN   \n",
       "2541  2020  Virginia     PM2.5  31.52         None         NaN        NaN   \n",
       "2542  2020  Virginia       SO2  21.90         None         NaN        NaN   \n",
       "2543  2021  Virginia     Ozone  31.75         None         NaN        NaN   \n",
       "2544  2021  Virginia      PM10   4.14         None         NaN        NaN   \n",
       "\n",
       "      Total_deaths  Pct_CP_Death  \n",
       "0           1067.0          5.53  \n",
       "1            166.0         10.84  \n",
       "2             95.0         11.58  \n",
       "3            115.0          6.09  \n",
       "4            468.0          6.41  \n",
       "...            ...           ...  \n",
       "2540           NaN           NaN  \n",
       "2541           NaN           NaN  \n",
       "2542           NaN           NaN  \n",
       "2543           NaN           NaN  \n",
       "2544           NaN           NaN  \n",
       "\n",
       "[2545 rows x 9 columns]"
      ]
     },
     "execution_count": 9,
     "metadata": {},
     "output_type": "execute_result"
    }
   ],
   "source": [
    "virginia_df"
   ]
  },
  {
   "cell_type": "code",
   "execution_count": 10,
   "id": "0f28e42a",
   "metadata": {},
   "outputs": [],
   "source": [
    "# q = \"DROP TABLE AQI.combined\"\n",
    "# cursor.execute(q)"
   ]
  },
  {
   "cell_type": "code",
   "execution_count": 11,
   "id": "3cb369f9",
   "metadata": {},
   "outputs": [],
   "source": [
    "# cursor.execute(\"CREATE TABLE AQI.combined (Year INTEGER(255), State VARCHAR(255), Parameter VARCHAR(255), AQI FLOAT(8, 2), Age_Group VARCHAR(255), Population INTEGER(255), CP_deaths INTEGER(255), Total_deaths INTEGER(255), Pct_CP_Death FLOAT(8, 5))\")"
   ]
  },
  {
   "cell_type": "code",
   "execution_count": 12,
   "id": "7da23b21",
   "metadata": {},
   "outputs": [],
   "source": [
    "# file_path = \"data/data_combined_UPDATED1104.csv\""
   ]
  },
  {
   "cell_type": "code",
   "execution_count": 13,
   "id": "32b4c8cf",
   "metadata": {},
   "outputs": [],
   "source": [
    "# from csv import reader\n",
    "# data = []\n",
    "\n",
    "# with open(file_path, 'r') as file:\n",
    "#     csv_reader = reader(file)\n",
    "#     header = next(csv_reader)\n",
    "#     for row in csv_reader:\n",
    "#         for i in range(len(row)):\n",
    "#             if row[i] == 'NA':\n",
    "#                 row[i] = None\n",
    "#         val = tuple(row[1:])\n",
    "#         data.append(val)\n",
    "\n",
    "# sql = \"INSERT INTO AQI.combined (Year, State, Parameter, AQI, Age_Group, Population, CP_deaths, Total_deaths, Pct_CP_Death) VALUES (%s, %s, %s, %s, %s, %s, %s, %s, %s)\"\n",
    "# cursor.executemany(sql, data)\n",
    "# conn.commit()\n",
    "        \n",
    "        "
   ]
  },
  {
   "cell_type": "code",
   "execution_count": null,
   "id": "d1d4f679",
   "metadata": {},
   "outputs": [],
   "source": []
  }
 ],
 "metadata": {
  "kernelspec": {
   "display_name": "Python 3",
   "language": "python",
   "name": "python3"
  },
  "language_info": {
   "codemirror_mode": {
    "name": "ipython",
    "version": 3
   },
   "file_extension": ".py",
   "mimetype": "text/x-python",
   "name": "python",
   "nbconvert_exporter": "python",
   "pygments_lexer": "ipython3",
   "version": "3.8.3"
  }
 },
 "nbformat": 4,
 "nbformat_minor": 5
}
