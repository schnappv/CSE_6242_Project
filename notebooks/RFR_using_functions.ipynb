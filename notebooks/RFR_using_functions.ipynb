{
 "cells": [
  {
   "cell_type": "markdown",
   "id": "9a35dfe8",
   "metadata": {},
   "source": [
    "# Predictive Analysis for CP Mortality Percentage of Population by Conditions Using Random Forest Regression"
   ]
  },
  {
   "cell_type": "code",
   "execution_count": 1,
   "id": "989f3168",
   "metadata": {},
   "outputs": [],
   "source": [
    "import os\n",
    "from pathlib import Path\n",
    "import sys\n",
    "\n",
    "# set working directory to the module's home\n",
    "cwd = os.getcwd()\n",
    "os.chdir(Path(cwd).parents[0])"
   ]
  },
  {
   "cell_type": "code",
   "execution_count": 2,
   "id": "effe7386",
   "metadata": {},
   "outputs": [],
   "source": [
    "import pandas as pd\n",
    "import matplotlib.pyplot as plt\n",
    "import numpy as np\n",
    "\n",
    "from config import connect\n",
    "from modeling.random_forest_regression import RFRegressor"
   ]
  },
  {
   "cell_type": "markdown",
   "id": "c2d23fa5",
   "metadata": {},
   "source": [
    "### Connect to MySQL Database `AQI` for the Table `combined`"
   ]
  },
  {
   "cell_type": "code",
   "execution_count": 3,
   "id": "24f81bdb",
   "metadata": {},
   "outputs": [],
   "source": [
    "conn = connect()\n",
    "cursor = conn.cursor()"
   ]
  },
  {
   "cell_type": "code",
   "execution_count": 4,
   "id": "fdde4f7a",
   "metadata": {},
   "outputs": [],
   "source": [
    "q = \"SELECT * FROM AQI.combined\"\n",
    "cursor.execute(q)"
   ]
  },
  {
   "cell_type": "code",
   "execution_count": 5,
   "id": "88c70c17",
   "metadata": {},
   "outputs": [
    {
     "name": "stdout",
     "output_type": "stream",
     "text": [
      "['Year', 'State', 'Parameter', 'AQI', 'Age_Group', 'Population', 'CP_deaths', 'Total_deaths', 'Pct_CP_Death']\n"
     ]
    }
   ],
   "source": [
    "num_fields = len(cursor.description)\n",
    "field_names = [i[0] for i in cursor.description]\n",
    "print(field_names)"
   ]
  },
  {
   "cell_type": "code",
   "execution_count": 6,
   "id": "3dd55e0d",
   "metadata": {},
   "outputs": [],
   "source": [
    "table_rows = cursor.fetchall()"
   ]
  },
  {
   "cell_type": "code",
   "execution_count": 7,
   "id": "7605c3c1",
   "metadata": {},
   "outputs": [
    {
     "data": {
      "text/html": [
       "<div>\n",
       "<style scoped>\n",
       "    .dataframe tbody tr th:only-of-type {\n",
       "        vertical-align: middle;\n",
       "    }\n",
       "\n",
       "    .dataframe tbody tr th {\n",
       "        vertical-align: top;\n",
       "    }\n",
       "\n",
       "    .dataframe thead th {\n",
       "        text-align: right;\n",
       "    }\n",
       "</style>\n",
       "<table border=\"1\" class=\"dataframe\">\n",
       "  <thead>\n",
       "    <tr style=\"text-align: right;\">\n",
       "      <th></th>\n",
       "      <th>Year</th>\n",
       "      <th>State</th>\n",
       "      <th>Parameter</th>\n",
       "      <th>AQI</th>\n",
       "      <th>Age_Group</th>\n",
       "      <th>Population</th>\n",
       "      <th>CP_deaths</th>\n",
       "      <th>Total_deaths</th>\n",
       "      <th>Pct_CP_Death</th>\n",
       "    </tr>\n",
       "  </thead>\n",
       "  <tbody>\n",
       "    <tr>\n",
       "      <th>0</th>\n",
       "      <td>1980</td>\n",
       "      <td>Alabama</td>\n",
       "      <td>CO</td>\n",
       "      <td>39.61</td>\n",
       "      <td>&lt; 1 year</td>\n",
       "      <td>63503.0</td>\n",
       "      <td>76.0</td>\n",
       "      <td>962.0</td>\n",
       "      <td>7.90</td>\n",
       "    </tr>\n",
       "    <tr>\n",
       "      <th>1</th>\n",
       "      <td>1980</td>\n",
       "      <td>Alabama</td>\n",
       "      <td>CO</td>\n",
       "      <td>39.61</td>\n",
       "      <td>1-4 years</td>\n",
       "      <td>237138.0</td>\n",
       "      <td>18.0</td>\n",
       "      <td>185.0</td>\n",
       "      <td>9.73</td>\n",
       "    </tr>\n",
       "    <tr>\n",
       "      <th>2</th>\n",
       "      <td>1980</td>\n",
       "      <td>Alabama</td>\n",
       "      <td>CO</td>\n",
       "      <td>39.61</td>\n",
       "      <td>5-9 years</td>\n",
       "      <td>314150.0</td>\n",
       "      <td>8.0</td>\n",
       "      <td>113.0</td>\n",
       "      <td>7.08</td>\n",
       "    </tr>\n",
       "    <tr>\n",
       "      <th>3</th>\n",
       "      <td>1980</td>\n",
       "      <td>Alabama</td>\n",
       "      <td>CO</td>\n",
       "      <td>39.61</td>\n",
       "      <td>10-14 years</td>\n",
       "      <td>328096.0</td>\n",
       "      <td>6.0</td>\n",
       "      <td>125.0</td>\n",
       "      <td>4.80</td>\n",
       "    </tr>\n",
       "    <tr>\n",
       "      <th>4</th>\n",
       "      <td>1980</td>\n",
       "      <td>Alabama</td>\n",
       "      <td>CO</td>\n",
       "      <td>39.61</td>\n",
       "      <td>15-19 years</td>\n",
       "      <td>377406.0</td>\n",
       "      <td>29.0</td>\n",
       "      <td>370.0</td>\n",
       "      <td>7.84</td>\n",
       "    </tr>\n",
       "  </tbody>\n",
       "</table>\n",
       "</div>"
      ],
      "text/plain": [
       "   Year    State Parameter    AQI    Age_Group  Population  CP_deaths  \\\n",
       "0  1980  Alabama        CO  39.61     < 1 year     63503.0       76.0   \n",
       "1  1980  Alabama        CO  39.61    1-4 years    237138.0       18.0   \n",
       "2  1980  Alabama        CO  39.61    5-9 years    314150.0        8.0   \n",
       "3  1980  Alabama        CO  39.61  10-14 years    328096.0        6.0   \n",
       "4  1980  Alabama        CO  39.61  15-19 years    377406.0       29.0   \n",
       "\n",
       "   Total_deaths  Pct_CP_Death  \n",
       "0         962.0          7.90  \n",
       "1         185.0          9.73  \n",
       "2         113.0          7.08  \n",
       "3         125.0          4.80  \n",
       "4         370.0          7.84  "
      ]
     },
     "execution_count": 7,
     "metadata": {},
     "output_type": "execute_result"
    }
   ],
   "source": [
    "df = pd.DataFrame(table_rows, columns=field_names)\n",
    "df.head()"
   ]
  },
  {
   "cell_type": "markdown",
   "id": "cda357e3",
   "metadata": {},
   "source": [
    "### Draw a random sample from the data of size 5000"
   ]
  },
  {
   "cell_type": "code",
   "execution_count": 8,
   "id": "d3e07275",
   "metadata": {},
   "outputs": [],
   "source": [
    "sample_df = df.dropna().sample(n=5000)"
   ]
  },
  {
   "cell_type": "markdown",
   "id": "664d0d15",
   "metadata": {},
   "source": [
    "### Build a Random Forest Regression (RFR) model fitted on the sample data"
   ]
  },
  {
   "cell_type": "code",
   "execution_count": 9,
   "id": "66b56f17",
   "metadata": {},
   "outputs": [
    {
     "data": {
      "text/plain": [
       "<modeling.random_forest_regression.RFRegressor at 0x13669bb20>"
      ]
     },
     "execution_count": 9,
     "metadata": {},
     "output_type": "execute_result"
    }
   ],
   "source": [
    "rfr = RFRegressor(target='Pct_CP_Death', features=['AQI', 'Parameter', 'Age_Group'], random_seed=123)\n",
    "\n",
    "# removed State as a feature due to concern of overfitting\n",
    "\n",
    "rfr"
   ]
  },
  {
   "cell_type": "code",
   "execution_count": 10,
   "id": "f095c7f2",
   "metadata": {},
   "outputs": [],
   "source": [
    "rfr.split_and_train(sample_df)"
   ]
  },
  {
   "cell_type": "markdown",
   "id": "7c8b948b",
   "metadata": {},
   "source": [
    "#### Hypertune model parameters and re-train it"
   ]
  },
  {
   "cell_type": "code",
   "execution_count": 11,
   "id": "8ef419d6",
   "metadata": {},
   "outputs": [
    {
     "name": "stdout",
     "output_type": "stream",
     "text": [
      "{'n_estimators': 2000}\n"
     ]
    }
   ],
   "source": [
    "parameters = {\n",
    "    \"n_estimators\": [500, 1000, 1500, 2000],\n",
    "}\n",
    "rfr.hypertune(parameters)"
   ]
  },
  {
   "cell_type": "markdown",
   "id": "31eb128e",
   "metadata": {},
   "source": [
    "#### Predict the target using the train set and the test set. Plot the results for human-eye fit confirmation"
   ]
  },
  {
   "cell_type": "code",
   "execution_count": 12,
   "id": "183806bc",
   "metadata": {},
   "outputs": [
    {
     "data": {
      "text/plain": [
       "0.9997920077663401"
      ]
     },
     "execution_count": 12,
     "metadata": {},
     "output_type": "execute_result"
    }
   ],
   "source": [
    "y_predict_train, train_score = rfr.predict_score_train()\n",
    "train_score"
   ]
  },
  {
   "cell_type": "code",
   "execution_count": 13,
   "id": "b03580ef",
   "metadata": {},
   "outputs": [
    {
     "data": {
      "text/plain": [
       "0.9997828303657477"
      ]
     },
     "execution_count": 13,
     "metadata": {},
     "output_type": "execute_result"
    }
   ],
   "source": [
    "y_predict_test, test_score = rfr.predict_score_test()\n",
    "test_score"
   ]
  },
  {
   "cell_type": "code",
   "execution_count": 14,
   "id": "26781f7e",
   "metadata": {},
   "outputs": [
    {
     "data": {
      "image/png": "[encoded data removed]",
      "text/plain": [
       "<Figure size 432x288 with 1 Axes>"
      ]
     },
     "metadata": {
      "needs_background": "light"
     },
     "output_type": "display_data"
    }
   ],
   "source": [
    "plt.scatter(rfr.y_train, y_predict_train)\n",
    "plt.xlabel(\"Actual Train Values\")\n",
    "plt.ylabel(\"Predicted Train Values\")\n",
    "plt.title(\"Actual vs Predicted Train Values\")\n",
    "plt.show()"
   ]
  },
  {
   "cell_type": "code",
   "execution_count": 15,
   "id": "bdc0f47c",
   "metadata": {},
   "outputs": [
    {
     "data": {
      "image/png": "[encoded data removed]",
      "text/plain": [
       "<Figure size 432x288 with 1 Axes>"
      ]
     },
     "metadata": {
      "needs_background": "light"
     },
     "output_type": "display_data"
    }
   ],
   "source": [
    "plt.scatter(rfr.y_test, y_predict_test)\n",
    "plt.xlabel(\"Actual Test Values\")\n",
    "plt.ylabel(\"Predicted Test Values\")\n",
    "plt.title(\"Actual vs Predicted Test Values\")\n",
    "plt.show()"
   ]
  },
  {
   "cell_type": "markdown",
   "id": "0029c94b",
   "metadata": {},
   "source": [
    "### Run the model on a different sample set of the data to see how it performs"
   ]
  },
  {
   "cell_type": "code",
   "execution_count": 16,
   "id": "fec8e7f3",
   "metadata": {},
   "outputs": [],
   "source": [
    "sample_df2 = df.dropna().sample(n=1000)"
   ]
  },
  {
   "cell_type": "code",
   "execution_count": 17,
   "id": "dfd04898",
   "metadata": {},
   "outputs": [],
   "source": [
    "pred_df = rfr.predict_data(sample_df2)"
   ]
  },
  {
   "cell_type": "code",
   "execution_count": 18,
   "id": "859b3c6f",
   "metadata": {},
   "outputs": [
    {
     "data": {
      "text/html": [
       "<div>\n",
       "<style scoped>\n",
       "    .dataframe tbody tr th:only-of-type {\n",
       "        vertical-align: middle;\n",
       "    }\n",
       "\n",
       "    .dataframe tbody tr th {\n",
       "        vertical-align: top;\n",
       "    }\n",
       "\n",
       "    .dataframe thead th {\n",
       "        text-align: right;\n",
       "    }\n",
       "</style>\n",
       "<table border=\"1\" class=\"dataframe\">\n",
       "  <thead>\n",
       "    <tr style=\"text-align: right;\">\n",
       "      <th></th>\n",
       "      <th>Year</th>\n",
       "      <th>State</th>\n",
       "      <th>Parameter</th>\n",
       "      <th>AQI</th>\n",
       "      <th>Age_Group</th>\n",
       "      <th>Population</th>\n",
       "      <th>CP_deaths</th>\n",
       "      <th>Total_deaths</th>\n",
       "      <th>Pct_CP_Death</th>\n",
       "      <th>predicted_Pct_CP_Death</th>\n",
       "      <th>less_than_5_pct_diff</th>\n",
       "    </tr>\n",
       "  </thead>\n",
       "  <tbody>\n",
       "    <tr>\n",
       "      <th>90629</th>\n",
       "      <td>2015</td>\n",
       "      <td>Kentucky</td>\n",
       "      <td>Ozone</td>\n",
       "      <td>40.46</td>\n",
       "      <td>35-44 years</td>\n",
       "      <td>558306.0</td>\n",
       "      <td>338.0</td>\n",
       "      <td>1532.0</td>\n",
       "      <td>22.0</td>\n",
       "      <td>24.0</td>\n",
       "      <td>1</td>\n",
       "    </tr>\n",
       "    <tr>\n",
       "      <th>89968</th>\n",
       "      <td>2015</td>\n",
       "      <td>Arkansas</td>\n",
       "      <td>NO2</td>\n",
       "      <td>28.52</td>\n",
       "      <td>20-24 years</td>\n",
       "      <td>207605.0</td>\n",
       "      <td>14.0</td>\n",
       "      <td>239.0</td>\n",
       "      <td>6.0</td>\n",
       "      <td>6.0</td>\n",
       "      <td>1</td>\n",
       "    </tr>\n",
       "    <tr>\n",
       "      <th>82098</th>\n",
       "      <td>2011</td>\n",
       "      <td>Oklahoma</td>\n",
       "      <td>NO2</td>\n",
       "      <td>28.93</td>\n",
       "      <td>25-34 years</td>\n",
       "      <td>515897.0</td>\n",
       "      <td>92.0</td>\n",
       "      <td>760.0</td>\n",
       "      <td>12.0</td>\n",
       "      <td>10.0</td>\n",
       "      <td>1</td>\n",
       "    </tr>\n",
       "    <tr>\n",
       "      <th>7484</th>\n",
       "      <td>1983</td>\n",
       "      <td>Illinois</td>\n",
       "      <td>SO2</td>\n",
       "      <td>63.90</td>\n",
       "      <td>10-14 years</td>\n",
       "      <td>882619.0</td>\n",
       "      <td>33.0</td>\n",
       "      <td>239.0</td>\n",
       "      <td>14.0</td>\n",
       "      <td>8.0</td>\n",
       "      <td>0</td>\n",
       "    </tr>\n",
       "    <tr>\n",
       "      <th>26070</th>\n",
       "      <td>1990</td>\n",
       "      <td>Connecticut</td>\n",
       "      <td>SO2</td>\n",
       "      <td>59.83</td>\n",
       "      <td>45-54 years</td>\n",
       "      <td>353786.0</td>\n",
       "      <td>458.0</td>\n",
       "      <td>1337.0</td>\n",
       "      <td>34.0</td>\n",
       "      <td>33.0</td>\n",
       "      <td>1</td>\n",
       "    </tr>\n",
       "  </tbody>\n",
       "</table>\n",
       "</div>"
      ],
      "text/plain": [
       "       Year        State Parameter    AQI    Age_Group  Population  CP_deaths  \\\n",
       "90629  2015     Kentucky     Ozone  40.46  35-44 years    558306.0      338.0   \n",
       "89968  2015     Arkansas       NO2  28.52  20-24 years    207605.0       14.0   \n",
       "82098  2011     Oklahoma       NO2  28.93  25-34 years    515897.0       92.0   \n",
       "7484   1983     Illinois       SO2  63.90  10-14 years    882619.0       33.0   \n",
       "26070  1990  Connecticut       SO2  59.83  45-54 years    353786.0      458.0   \n",
       "\n",
       "       Total_deaths  Pct_CP_Death  predicted_Pct_CP_Death  \\\n",
       "90629        1532.0          22.0                    24.0   \n",
       "89968         239.0           6.0                     6.0   \n",
       "82098         760.0          12.0                    10.0   \n",
       "7484          239.0          14.0                     8.0   \n",
       "26070        1337.0          34.0                    33.0   \n",
       "\n",
       "       less_than_5_pct_diff  \n",
       "90629                     1  \n",
       "89968                     1  \n",
       "82098                     1  \n",
       "7484                      0  \n",
       "26070                     1  "
      ]
     },
     "execution_count": 18,
     "metadata": {},
     "output_type": "execute_result"
    }
   ],
   "source": [
    "pred_df['less_than_5_pct_diff'] = 1\n",
    "pred_df.loc[np.abs(pred_df['Pct_CP_Death'] - pred_df['predicted_Pct_CP_Death']) > 5, 'less_than_5_pct_diff'] = 0\n",
    "\n",
    "pred_df.tail()"
   ]
  },
  {
   "cell_type": "code",
   "execution_count": 19,
   "id": "1e4ae47c",
   "metadata": {},
   "outputs": [
    {
     "data": {
      "text/plain": [
       "0.742"
      ]
     },
     "execution_count": 19,
     "metadata": {},
     "output_type": "execute_result"
    }
   ],
   "source": [
    "values = pred_df.less_than_5_pct_diff.value_counts()\n",
    "values[1] / (values[1] + values[0])"
   ]
  },
  {
   "cell_type": "markdown",
   "id": "37f95407",
   "metadata": {},
   "source": [
    "### Plot Feature Importance"
   ]
  },
  {
   "cell_type": "code",
   "execution_count": 20,
   "id": "970382f0",
   "metadata": {},
   "outputs": [
    {
     "data": {
      "text/html": [
       "<div>\n",
       "<style scoped>\n",
       "    .dataframe tbody tr th:only-of-type {\n",
       "        vertical-align: middle;\n",
       "    }\n",
       "\n",
       "    .dataframe tbody tr th {\n",
       "        vertical-align: top;\n",
       "    }\n",
       "\n",
       "    .dataframe thead th {\n",
       "        text-align: right;\n",
       "    }\n",
       "</style>\n",
       "<table border=\"1\" class=\"dataframe\">\n",
       "  <thead>\n",
       "    <tr style=\"text-align: right;\">\n",
       "      <th></th>\n",
       "      <th>importance</th>\n",
       "    </tr>\n",
       "    <tr>\n",
       "      <th>field</th>\n",
       "      <th></th>\n",
       "    </tr>\n",
       "  </thead>\n",
       "  <tbody>\n",
       "    <tr>\n",
       "      <th>AQI</th>\n",
       "      <td>0.053251</td>\n",
       "    </tr>\n",
       "    <tr>\n",
       "      <th>Parameter_CO</th>\n",
       "      <td>0.003592</td>\n",
       "    </tr>\n",
       "    <tr>\n",
       "      <th>Parameter_NO2</th>\n",
       "      <td>0.001951</td>\n",
       "    </tr>\n",
       "    <tr>\n",
       "      <th>Parameter_Ozone</th>\n",
       "      <td>0.001842</td>\n",
       "    </tr>\n",
       "    <tr>\n",
       "      <th>Parameter_PM10</th>\n",
       "      <td>0.001953</td>\n",
       "    </tr>\n",
       "    <tr>\n",
       "      <th>Parameter_PM2.5</th>\n",
       "      <td>0.002971</td>\n",
       "    </tr>\n",
       "    <tr>\n",
       "      <th>Parameter_SO2</th>\n",
       "      <td>0.001828</td>\n",
       "    </tr>\n",
       "    <tr>\n",
       "      <th>Age_Group_1-4 years</th>\n",
       "      <td>0.001579</td>\n",
       "    </tr>\n",
       "    <tr>\n",
       "      <th>Age_Group_10-14 years</th>\n",
       "      <td>0.000968</td>\n",
       "    </tr>\n",
       "    <tr>\n",
       "      <th>Age_Group_15-19 years</th>\n",
       "      <td>0.001031</td>\n",
       "    </tr>\n",
       "    <tr>\n",
       "      <th>Age_Group_20-24 years</th>\n",
       "      <td>0.001272</td>\n",
       "    </tr>\n",
       "    <tr>\n",
       "      <th>Age_Group_25-34 years</th>\n",
       "      <td>0.001679</td>\n",
       "    </tr>\n",
       "    <tr>\n",
       "      <th>Age_Group_35-44 years</th>\n",
       "      <td>0.036084</td>\n",
       "    </tr>\n",
       "    <tr>\n",
       "      <th>Age_Group_45-54 years</th>\n",
       "      <td>0.091564</td>\n",
       "    </tr>\n",
       "    <tr>\n",
       "      <th>Age_Group_5-9 years</th>\n",
       "      <td>0.000674</td>\n",
       "    </tr>\n",
       "    <tr>\n",
       "      <th>Age_Group_55-64 years</th>\n",
       "      <td>0.129881</td>\n",
       "    </tr>\n",
       "    <tr>\n",
       "      <th>Age_Group_65-74 years</th>\n",
       "      <td>0.167380</td>\n",
       "    </tr>\n",
       "    <tr>\n",
       "      <th>Age_Group_75-84 years</th>\n",
       "      <td>0.221645</td>\n",
       "    </tr>\n",
       "    <tr>\n",
       "      <th>Age_Group_85+ years</th>\n",
       "      <td>0.277874</td>\n",
       "    </tr>\n",
       "    <tr>\n",
       "      <th>Age_Group_&lt; 1 year</th>\n",
       "      <td>0.000979</td>\n",
       "    </tr>\n",
       "  </tbody>\n",
       "</table>\n",
       "</div>"
      ],
      "text/plain": [
       "                       importance\n",
       "field                            \n",
       "AQI                      0.053251\n",
       "Parameter_CO             0.003592\n",
       "Parameter_NO2            0.001951\n",
       "Parameter_Ozone          0.001842\n",
       "Parameter_PM10           0.001953\n",
       "Parameter_PM2.5          0.002971\n",
       "Parameter_SO2            0.001828\n",
       "Age_Group_1-4 years      0.001579\n",
       "Age_Group_10-14 years    0.000968\n",
       "Age_Group_15-19 years    0.001031\n",
       "Age_Group_20-24 years    0.001272\n",
       "Age_Group_25-34 years    0.001679\n",
       "Age_Group_35-44 years    0.036084\n",
       "Age_Group_45-54 years    0.091564\n",
       "Age_Group_5-9 years      0.000674\n",
       "Age_Group_55-64 years    0.129881\n",
       "Age_Group_65-74 years    0.167380\n",
       "Age_Group_75-84 years    0.221645\n",
       "Age_Group_85+ years      0.277874\n",
       "Age_Group_< 1 year       0.000979"
      ]
     },
     "execution_count": 20,
     "metadata": {},
     "output_type": "execute_result"
    }
   ],
   "source": [
    "features = pd.DataFrame(\n",
    "    {\n",
    "        \"field\": rfr.rf_reg.feature_names_in_,\n",
    "        \"importance\": rfr.rf_reg.feature_importances_\n",
    "    }\n",
    ")\n",
    "features = features.set_index('field')\n",
    "features"
   ]
  },
  {
   "cell_type": "code",
   "execution_count": 21,
   "id": "8bc1210f",
   "metadata": {},
   "outputs": [],
   "source": [
    "limited = features.sort_values(\"importance\", ascending=False).head(10)"
   ]
  },
  {
   "cell_type": "code",
   "execution_count": 22,
   "id": "8e4c4b46",
   "metadata": {},
   "outputs": [
    {
     "data": {
      "image/png": "[encoded data removed]",
      "text/plain": [
       "<Figure size 432x288 with 1 Axes>"
      ]
     },
     "metadata": {
      "needs_background": "light"
     },
     "output_type": "display_data"
    }
   ],
   "source": [
    "plt.barh(limited.index, limited.importance)\n",
    "plt.title(\"Feature Importance: Top 10\")\n",
    "plt.show()"
   ]
  },
  {
   "cell_type": "code",
   "execution_count": null,
   "id": "0441c4af",
   "metadata": {},
   "outputs": [],
   "source": []
  }
 ],
 "metadata": {
  "kernelspec": {
   "display_name": "Python 3",
   "language": "python",
   "name": "python3"
  },
  "language_info": {
   "codemirror_mode": {
    "name": "ipython",
    "version": 3
   },
   "file_extension": ".py",
   "mimetype": "text/x-python",
   "name": "python",
   "nbconvert_exporter": "python",
   "pygments_lexer": "ipython3",
   "version": "3.8.3"
  }
 },
 "nbformat": 4,
 "nbformat_minor": 5
}
