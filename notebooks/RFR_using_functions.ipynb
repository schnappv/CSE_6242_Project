{
 "cells": [
  {
   "cell_type": "markdown",
   "id": "9a35dfe8",
   "metadata": {},
   "source": [
    "# Predictive Analysis for CP Mortality Percentage of Population by Conditions Using Random Forest Regression"
   ]
  },
  {
   "cell_type": "code",
   "execution_count": 1,
   "id": "989f3168",
   "metadata": {},
   "outputs": [
    {
     "name": "stdout",
     "output_type": "stream",
     "text": [
      "/Users/valerieschnapp/Desktop/GT/CSE_6242/project/CSE_6242_Project\n"
     ]
    }
   ],
   "source": [
    "cd .."
   ]
  },
  {
   "cell_type": "code",
   "execution_count": 2,
   "id": "effe7386",
   "metadata": {},
   "outputs": [],
   "source": [
    "import pandas as pd\n",
    "import matplotlib.pyplot as plt\n",
    "import numpy as np\n",
    "\n",
    "from config import connect\n",
    "from modeling.random_forest_regression import RFRegressor"
   ]
  },
  {
   "cell_type": "markdown",
   "id": "c2d23fa5",
   "metadata": {},
   "source": [
    "### Connect to MySQL Database `AQI` for the Table `combined`"
   ]
  },
  {
   "cell_type": "code",
   "execution_count": 3,
   "id": "24f81bdb",
   "metadata": {},
   "outputs": [],
   "source": [
    "conn = connect()\n",
    "cursor = conn.cursor()"
   ]
  },
  {
   "cell_type": "code",
   "execution_count": 4,
   "id": "fdde4f7a",
   "metadata": {},
   "outputs": [],
   "source": [
    "q = \"SELECT * FROM AQI.combined\"\n",
    "cursor.execute(q)"
   ]
  },
  {
   "cell_type": "code",
   "execution_count": 5,
   "id": "88c70c17",
   "metadata": {},
   "outputs": [
    {
     "name": "stdout",
     "output_type": "stream",
     "text": [
      "['Year', 'State', 'Parameter', 'AQI', 'Age_Group', 'Population', 'CP_deaths', 'Total_deaths', 'Pct_CP_Death']\n"
     ]
    }
   ],
   "source": [
    "num_fields = len(cursor.description)\n",
    "field_names = [i[0] for i in cursor.description]\n",
    "print(field_names)"
   ]
  },
  {
   "cell_type": "code",
   "execution_count": 6,
   "id": "3dd55e0d",
   "metadata": {},
   "outputs": [],
   "source": [
    "table_rows = cursor.fetchall()"
   ]
  },
  {
   "cell_type": "code",
   "execution_count": 7,
   "id": "7605c3c1",
   "metadata": {},
   "outputs": [
    {
     "data": {
      "text/html": [
       "<div>\n",
       "<style scoped>\n",
       "    .dataframe tbody tr th:only-of-type {\n",
       "        vertical-align: middle;\n",
       "    }\n",
       "\n",
       "    .dataframe tbody tr th {\n",
       "        vertical-align: top;\n",
       "    }\n",
       "\n",
       "    .dataframe thead th {\n",
       "        text-align: right;\n",
       "    }\n",
       "</style>\n",
       "<table border=\"1\" class=\"dataframe\">\n",
       "  <thead>\n",
       "    <tr style=\"text-align: right;\">\n",
       "      <th></th>\n",
       "      <th>Year</th>\n",
       "      <th>State</th>\n",
       "      <th>Parameter</th>\n",
       "      <th>AQI</th>\n",
       "      <th>Age_Group</th>\n",
       "      <th>Population</th>\n",
       "      <th>CP_deaths</th>\n",
       "      <th>Total_deaths</th>\n",
       "      <th>Pct_CP_Death</th>\n",
       "    </tr>\n",
       "  </thead>\n",
       "  <tbody>\n",
       "    <tr>\n",
       "      <th>0</th>\n",
       "      <td>1980</td>\n",
       "      <td>Alabama</td>\n",
       "      <td>CO</td>\n",
       "      <td>39.61</td>\n",
       "      <td>&lt; 1 year</td>\n",
       "      <td>63503.0</td>\n",
       "      <td>76.0</td>\n",
       "      <td>962.0</td>\n",
       "      <td>7.90</td>\n",
       "    </tr>\n",
       "    <tr>\n",
       "      <th>1</th>\n",
       "      <td>1980</td>\n",
       "      <td>Alabama</td>\n",
       "      <td>CO</td>\n",
       "      <td>39.61</td>\n",
       "      <td>1-4 years</td>\n",
       "      <td>237138.0</td>\n",
       "      <td>18.0</td>\n",
       "      <td>185.0</td>\n",
       "      <td>9.73</td>\n",
       "    </tr>\n",
       "    <tr>\n",
       "      <th>2</th>\n",
       "      <td>1980</td>\n",
       "      <td>Alabama</td>\n",
       "      <td>CO</td>\n",
       "      <td>39.61</td>\n",
       "      <td>5-9 years</td>\n",
       "      <td>314150.0</td>\n",
       "      <td>8.0</td>\n",
       "      <td>113.0</td>\n",
       "      <td>7.08</td>\n",
       "    </tr>\n",
       "    <tr>\n",
       "      <th>3</th>\n",
       "      <td>1980</td>\n",
       "      <td>Alabama</td>\n",
       "      <td>CO</td>\n",
       "      <td>39.61</td>\n",
       "      <td>10-14 years</td>\n",
       "      <td>328096.0</td>\n",
       "      <td>6.0</td>\n",
       "      <td>125.0</td>\n",
       "      <td>4.80</td>\n",
       "    </tr>\n",
       "    <tr>\n",
       "      <th>4</th>\n",
       "      <td>1980</td>\n",
       "      <td>Alabama</td>\n",
       "      <td>CO</td>\n",
       "      <td>39.61</td>\n",
       "      <td>15-19 years</td>\n",
       "      <td>377406.0</td>\n",
       "      <td>29.0</td>\n",
       "      <td>370.0</td>\n",
       "      <td>7.84</td>\n",
       "    </tr>\n",
       "  </tbody>\n",
       "</table>\n",
       "</div>"
      ],
      "text/plain": [
       "   Year    State Parameter    AQI    Age_Group  Population  CP_deaths  \\\n",
       "0  1980  Alabama        CO  39.61     < 1 year     63503.0       76.0   \n",
       "1  1980  Alabama        CO  39.61    1-4 years    237138.0       18.0   \n",
       "2  1980  Alabama        CO  39.61    5-9 years    314150.0        8.0   \n",
       "3  1980  Alabama        CO  39.61  10-14 years    328096.0        6.0   \n",
       "4  1980  Alabama        CO  39.61  15-19 years    377406.0       29.0   \n",
       "\n",
       "   Total_deaths  Pct_CP_Death  \n",
       "0         962.0          7.90  \n",
       "1         185.0          9.73  \n",
       "2         113.0          7.08  \n",
       "3         125.0          4.80  \n",
       "4         370.0          7.84  "
      ]
     },
     "execution_count": 7,
     "metadata": {},
     "output_type": "execute_result"
    }
   ],
   "source": [
    "df = pd.DataFrame(table_rows, columns=field_names)\n",
    "df.head()"
   ]
  },
  {
   "cell_type": "code",
   "execution_count": 8,
   "id": "d1d4f679",
   "metadata": {},
   "outputs": [
    {
     "data": {
      "text/plain": [
       "Year            95569\n",
       "State           95569\n",
       "Parameter       95569\n",
       "AQI             95569\n",
       "Age_Group       94451\n",
       "Population      94451\n",
       "CP_deaths       94451\n",
       "Total_deaths    94451\n",
       "Pct_CP_Death    94451\n",
       "dtype: int64"
      ]
     },
     "execution_count": 8,
     "metadata": {},
     "output_type": "execute_result"
    }
   ],
   "source": [
    "df.count()"
   ]
  },
  {
   "cell_type": "markdown",
   "id": "cda357e3",
   "metadata": {},
   "source": [
    "### Draw a random sample from the data of size 5000"
   ]
  },
  {
   "cell_type": "code",
   "execution_count": 10,
   "id": "d3e07275",
   "metadata": {},
   "outputs": [],
   "source": [
    "sample_df = df.dropna().sample(n=5000)"
   ]
  },
  {
   "cell_type": "markdown",
   "id": "664d0d15",
   "metadata": {},
   "source": [
    "### Build a Random Forest Regression (RFR) model fitted on the sample data"
   ]
  },
  {
   "cell_type": "code",
   "execution_count": 11,
   "id": "66b56f17",
   "metadata": {},
   "outputs": [
    {
     "data": {
      "text/plain": [
       "<modeling.random_forest_regression.RFRegressor at 0x125eed6d0>"
      ]
     },
     "execution_count": 11,
     "metadata": {},
     "output_type": "execute_result"
    }
   ],
   "source": [
    "rfr = RFRegressor(target='Pct_CP_Death', features=['AQI', 'State', 'Parameter', 'Age_Group'], random_seed=123)\n",
    "rfr"
   ]
  },
  {
   "cell_type": "code",
   "execution_count": 12,
   "id": "f095c7f2",
   "metadata": {},
   "outputs": [],
   "source": [
    "rfr.split_and_train(sample_df)"
   ]
  },
  {
   "cell_type": "markdown",
   "id": "7c8b948b",
   "metadata": {},
   "source": [
    "#### Hypertune model parameters and re-train it"
   ]
  },
  {
   "cell_type": "code",
   "execution_count": 13,
   "id": "8ef419d6",
   "metadata": {},
   "outputs": [
    {
     "name": "stdout",
     "output_type": "stream",
     "text": [
      "{'n_estimators': 1500}\n"
     ]
    }
   ],
   "source": [
    "parameters = {\n",
    "    \"n_estimators\": [500, 1000, 1500, 2000],\n",
    "}\n",
    "rfr.hypertune(parameters)"
   ]
  },
  {
   "cell_type": "markdown",
   "id": "31eb128e",
   "metadata": {},
   "source": [
    "#### Predict the target using the train set and the test set. Plot the results for human-eye fit confirmation"
   ]
  },
  {
   "cell_type": "code",
   "execution_count": 14,
   "id": "183806bc",
   "metadata": {},
   "outputs": [],
   "source": [
    "y_predict_train, train_score = rfr.predict_score_train()"
   ]
  },
  {
   "cell_type": "code",
   "execution_count": 15,
   "id": "b03580ef",
   "metadata": {},
   "outputs": [],
   "source": [
    "y_predict_test, test_score = rfr.predict_score_test()"
   ]
  },
  {
   "cell_type": "code",
   "execution_count": 16,
   "id": "26781f7e",
   "metadata": {},
   "outputs": [
    {
     "data": {
      "text/plain": [
       "<matplotlib.collections.PathCollection at 0x125e3f7f0>"
      ]
     },
     "execution_count": 16,
     "metadata": {},
     "output_type": "execute_result"
    },
    {
     "data": {
      "image/png": "[encoded data removed]",
      "text/plain": [
       "<Figure size 432x288 with 1 Axes>"
      ]
     },
     "metadata": {
      "needs_background": "light"
     },
     "output_type": "display_data"
    }
   ],
   "source": [
    "plt.scatter(rfr.y_train, y_predict_train)"
   ]
  },
  {
   "cell_type": "code",
   "execution_count": 17,
   "id": "bdc0f47c",
   "metadata": {},
   "outputs": [
    {
     "data": {
      "text/plain": [
       "<matplotlib.collections.PathCollection at 0x125e8a250>"
      ]
     },
     "execution_count": 17,
     "metadata": {},
     "output_type": "execute_result"
    },
    {
     "data": {
      "image/png": "[encoded data removed]",
      "text/plain": [
       "<Figure size 432x288 with 1 Axes>"
      ]
     },
     "metadata": {
      "needs_background": "light"
     },
     "output_type": "display_data"
    }
   ],
   "source": [
    "plt.scatter(rfr.y_test, y_predict_test)"
   ]
  },
  {
   "cell_type": "markdown",
   "id": "0029c94b",
   "metadata": {},
   "source": [
    "### Run the model on a different sample set of the data to see how it performs"
   ]
  },
  {
   "cell_type": "code",
   "execution_count": 18,
   "id": "fec8e7f3",
   "metadata": {},
   "outputs": [],
   "source": [
    "sample_df2 = df.dropna().sample(n=1000)"
   ]
  },
  {
   "cell_type": "code",
   "execution_count": 19,
   "id": "dfd04898",
   "metadata": {},
   "outputs": [],
   "source": [
    "pred_df = rfr.predict_data(sample_df2)"
   ]
  },
  {
   "cell_type": "code",
   "execution_count": 20,
   "id": "859b3c6f",
   "metadata": {},
   "outputs": [
    {
     "data": {
      "text/html": [
       "<div>\n",
       "<style scoped>\n",
       "    .dataframe tbody tr th:only-of-type {\n",
       "        vertical-align: middle;\n",
       "    }\n",
       "\n",
       "    .dataframe tbody tr th {\n",
       "        vertical-align: top;\n",
       "    }\n",
       "\n",
       "    .dataframe thead th {\n",
       "        text-align: right;\n",
       "    }\n",
       "</style>\n",
       "<table border=\"1\" class=\"dataframe\">\n",
       "  <thead>\n",
       "    <tr style=\"text-align: right;\">\n",
       "      <th></th>\n",
       "      <th>Year</th>\n",
       "      <th>State</th>\n",
       "      <th>Parameter</th>\n",
       "      <th>AQI</th>\n",
       "      <th>Age_Group</th>\n",
       "      <th>Population</th>\n",
       "      <th>CP_deaths</th>\n",
       "      <th>Total_deaths</th>\n",
       "      <th>Pct_CP_Death</th>\n",
       "      <th>predicted_Pct_CP_Death</th>\n",
       "      <th>less_than_5_pct_diff</th>\n",
       "    </tr>\n",
       "  </thead>\n",
       "  <tbody>\n",
       "    <tr>\n",
       "      <th>14482</th>\n",
       "      <td>1986</td>\n",
       "      <td>Arizona</td>\n",
       "      <td>Ozone</td>\n",
       "      <td>65.47</td>\n",
       "      <td>5-9 years</td>\n",
       "      <td>238789.0</td>\n",
       "      <td>3.0</td>\n",
       "      <td>71.0</td>\n",
       "      <td>4.0</td>\n",
       "      <td>7.0</td>\n",
       "      <td>1</td>\n",
       "    </tr>\n",
       "    <tr>\n",
       "      <th>34852</th>\n",
       "      <td>1993</td>\n",
       "      <td>New Mexico</td>\n",
       "      <td>Ozone</td>\n",
       "      <td>45.48</td>\n",
       "      <td>75-84 years</td>\n",
       "      <td>57177.0</td>\n",
       "      <td>1735.0</td>\n",
       "      <td>3128.0</td>\n",
       "      <td>55.0</td>\n",
       "      <td>51.0</td>\n",
       "      <td>1</td>\n",
       "    </tr>\n",
       "    <tr>\n",
       "      <th>35384</th>\n",
       "      <td>1993</td>\n",
       "      <td>Tennessee</td>\n",
       "      <td>NO2</td>\n",
       "      <td>34.58</td>\n",
       "      <td>20-24 years</td>\n",
       "      <td>386902.0</td>\n",
       "      <td>31.0</td>\n",
       "      <td>495.0</td>\n",
       "      <td>6.0</td>\n",
       "      <td>6.0</td>\n",
       "      <td>1</td>\n",
       "    </tr>\n",
       "    <tr>\n",
       "      <th>3043</th>\n",
       "      <td>1981</td>\n",
       "      <td>Kentucky</td>\n",
       "      <td>Ozone</td>\n",
       "      <td>51.65</td>\n",
       "      <td>20-24 years</td>\n",
       "      <td>348123.0</td>\n",
       "      <td>26.0</td>\n",
       "      <td>397.0</td>\n",
       "      <td>7.0</td>\n",
       "      <td>6.0</td>\n",
       "      <td>1</td>\n",
       "    </tr>\n",
       "    <tr>\n",
       "      <th>80564</th>\n",
       "      <td>2011</td>\n",
       "      <td>California</td>\n",
       "      <td>NO2</td>\n",
       "      <td>43.24</td>\n",
       "      <td>15-19 years</td>\n",
       "      <td>2747819.0</td>\n",
       "      <td>56.0</td>\n",
       "      <td>1097.0</td>\n",
       "      <td>5.0</td>\n",
       "      <td>5.0</td>\n",
       "      <td>1</td>\n",
       "    </tr>\n",
       "  </tbody>\n",
       "</table>\n",
       "</div>"
      ],
      "text/plain": [
       "       Year       State Parameter    AQI    Age_Group  Population  CP_deaths  \\\n",
       "14482  1986     Arizona     Ozone  65.47    5-9 years    238789.0        3.0   \n",
       "34852  1993  New Mexico     Ozone  45.48  75-84 years     57177.0     1735.0   \n",
       "35384  1993   Tennessee       NO2  34.58  20-24 years    386902.0       31.0   \n",
       "3043   1981    Kentucky     Ozone  51.65  20-24 years    348123.0       26.0   \n",
       "80564  2011  California       NO2  43.24  15-19 years   2747819.0       56.0   \n",
       "\n",
       "       Total_deaths  Pct_CP_Death  predicted_Pct_CP_Death  \\\n",
       "14482          71.0           4.0                     7.0   \n",
       "34852        3128.0          55.0                    51.0   \n",
       "35384         495.0           6.0                     6.0   \n",
       "3043          397.0           7.0                     6.0   \n",
       "80564        1097.0           5.0                     5.0   \n",
       "\n",
       "       less_than_5_pct_diff  \n",
       "14482                     1  \n",
       "34852                     1  \n",
       "35384                     1  \n",
       "3043                      1  \n",
       "80564                     1  "
      ]
     },
     "execution_count": 20,
     "metadata": {},
     "output_type": "execute_result"
    }
   ],
   "source": [
    "# pred_df['diff'] = np.abs(pred_df.Pct_CP_Death - pred_df.predicted_Pct_CP_Death)\n",
    "pred_df['less_than_5_pct_diff'] = 1\n",
    "pred_df.loc[np.abs(pred_df['Pct_CP_Death'] - pred_df['predicted_Pct_CP_Death']) >5, 'less_than_5_pct_diff'] = 0\n",
    "\n",
    "pred_df.tail()"
   ]
  },
  {
   "cell_type": "code",
   "execution_count": 21,
   "id": "1e4ae47c",
   "metadata": {},
   "outputs": [
    {
     "data": {
      "text/plain": [
       "0.801"
      ]
     },
     "execution_count": 21,
     "metadata": {},
     "output_type": "execute_result"
    }
   ],
   "source": [
    "values = pred_df.less_than_5_pct_diff.value_counts()\n",
    "values[1] / (values[1] + values[0])"
   ]
  },
  {
   "cell_type": "code",
   "execution_count": null,
   "id": "a2773d9a",
   "metadata": {},
   "outputs": [],
   "source": []
  }
 ],
 "metadata": {
  "kernelspec": {
   "display_name": "Python 3",
   "language": "python",
   "name": "python3"
  },
  "language_info": {
   "codemirror_mode": {
    "name": "ipython",
    "version": 3
   },
   "file_extension": ".py",
   "mimetype": "text/x-python",
   "name": "python",
   "nbconvert_exporter": "python",
   "pygments_lexer": "ipython3",
   "version": "3.8.3"
  }
 },
 "nbformat": 4,
 "nbformat_minor": 5
}
